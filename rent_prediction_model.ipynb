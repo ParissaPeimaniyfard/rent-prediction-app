{
 "cells": [
  {
   "cell_type": "markdown",
   "id": "38c13d1a",
   "metadata": {},
   "source": [
    "# Importing libraries"
   ]
  },
  {
   "cell_type": "code",
   "execution_count": 3,
   "id": "4a7f8d55",
   "metadata": {},
   "outputs": [],
   "source": [
    "import pandas as pd\n",
    "import numpy as np\n",
    "import matplotlib.pyplot as plt\n",
    "import seaborn as sns\n",
    "import sklearn\n",
    "from sklearn.model_selection import train_test_split\n",
    "from sklearn.compose import ColumnTransformer\n",
    "from sklearn.preprocessing import OneHotEncoder\n",
    "from sklearn.impute import SimpleImputer\n",
    "from sklearn.pipeline import Pipeline\n",
    "from sklearn.model_selection import train_test_split\n",
    "from sklearn.metrics import mean_absolute_error, mean_squared_error, r2_score\n",
    "from sklearn.ensemble import HistGradientBoostingRegressor\n",
    "from sklearn.ensemble import RandomForestRegressor\n",
    "from sklearn.metrics import r2_score, mean_absolute_error, mean_squared_error\n",
    "import numpy as np\n",
    "import matplotlib.pyplot as plt\n",
    "from sklearn.model_selection import learning_curve\n",
    "from xgboost import XGBRegressor\n",
    "import joblib, pandas as pd\n",
    "import os, json, joblib\n"
   ]
  },
  {
   "cell_type": "code",
   "execution_count": 2,
   "id": "011af1eb",
   "metadata": {},
   "outputs": [
    {
     "name": "stdout",
     "output_type": "stream",
     "text": [
      "scikit-learn version: 1.3.2\n",
      "pandas version: 1.4.4\n"
     ]
    }
   ],
   "source": [
    "print(\"scikit-learn version:\", sklearn.__version__)\n",
    "print(\"pandas version:\", pd.__version__)"
   ]
  },
  {
   "cell_type": "markdown",
   "id": "519972f9",
   "metadata": {
    "heading_collapsed": true
   },
   "source": [
    "# Loading data"
   ]
  },
  {
   "cell_type": "code",
   "execution_count": 4,
   "id": "a7f25c34",
   "metadata": {
    "hidden": true
   },
   "outputs": [],
   "source": [
    "df = pd.read_json('./archive/properties.json', lines=True)"
   ]
  },
  {
   "cell_type": "code",
   "execution_count": 5,
   "id": "26a4c3d2",
   "metadata": {
    "hidden": true
   },
   "outputs": [
    {
     "data": {
      "text/html": [
       "<div>\n",
       "<style scoped>\n",
       "    .dataframe tbody tr th:only-of-type {\n",
       "        vertical-align: middle;\n",
       "    }\n",
       "\n",
       "    .dataframe tbody tr th {\n",
       "        vertical-align: top;\n",
       "    }\n",
       "\n",
       "    .dataframe thead th {\n",
       "        text-align: right;\n",
       "    }\n",
       "</style>\n",
       "<table border=\"1\" class=\"dataframe\">\n",
       "  <thead>\n",
       "    <tr style=\"text-align: right;\">\n",
       "      <th></th>\n",
       "      <th>_id</th>\n",
       "      <th>externalId</th>\n",
       "      <th>areaRaw</th>\n",
       "      <th>areaSqm</th>\n",
       "      <th>city</th>\n",
       "      <th>coverImageUrl</th>\n",
       "      <th>crawlStatus</th>\n",
       "      <th>crawledAt</th>\n",
       "      <th>datesPublished</th>\n",
       "      <th>firstSeenAt</th>\n",
       "      <th>...</th>\n",
       "      <th>roommates</th>\n",
       "      <th>shower</th>\n",
       "      <th>smokingInside</th>\n",
       "      <th>toilet</th>\n",
       "      <th>userDisplayName</th>\n",
       "      <th>userId</th>\n",
       "      <th>userLastLoggedOn</th>\n",
       "      <th>userMemberSince</th>\n",
       "      <th>userPhotoUrl</th>\n",
       "      <th>additionalCostsDescription</th>\n",
       "    </tr>\n",
       "  </thead>\n",
       "  <tbody>\n",
       "    <tr>\n",
       "      <th>0</th>\n",
       "      <td>{'$oid': '5d2b113a43cbfd7c77a998f4'}</td>\n",
       "      <td>room-1686123</td>\n",
       "      <td>14 m2</td>\n",
       "      <td>14</td>\n",
       "      <td>Rotterdam</td>\n",
       "      <td>https://resources.kamernet.nl/image/913b4b03-5...</td>\n",
       "      <td>done</td>\n",
       "      <td>{'$date': '2019-07-26T22:18:23.018+0000'}</td>\n",
       "      <td>[{'$date': '2019-07-14T11:25:46.511+0000'}, {'...</td>\n",
       "      <td>{'$date': '2019-07-14T11:25:46.511+0000'}</td>\n",
       "      <td>...</td>\n",
       "      <td>5</td>\n",
       "      <td>Shared</td>\n",
       "      <td>No</td>\n",
       "      <td>Shared</td>\n",
       "      <td>Huize west</td>\n",
       "      <td>4680711.0</td>\n",
       "      <td>21-07-2019</td>\n",
       "      <td>26-06-2019</td>\n",
       "      <td>https://resources.kamernet.nl/Content/images/s...</td>\n",
       "      <td>NaN</td>\n",
       "    </tr>\n",
       "    <tr>\n",
       "      <th>1</th>\n",
       "      <td>{'$oid': '5d2b113a43cbfd7c77a9991a'}</td>\n",
       "      <td>studio-1691193</td>\n",
       "      <td>30 m2</td>\n",
       "      <td>30</td>\n",
       "      <td>Amsterdam</td>\n",
       "      <td>https://resources.kamernet.nl/image/5e11d6b5-8...</td>\n",
       "      <td>done</td>\n",
       "      <td>{'$date': '2019-08-10T22:28:46.099+0000'}</td>\n",
       "      <td>[{'$date': '2019-07-14T11:25:46.677+0000'}, {'...</td>\n",
       "      <td>{'$date': '2019-07-14T11:25:46.677+0000'}</td>\n",
       "      <td>...</td>\n",
       "      <td>None</td>\n",
       "      <td>Own</td>\n",
       "      <td>No</td>\n",
       "      <td>Own</td>\n",
       "      <td>Cor</td>\n",
       "      <td>1865530.0</td>\n",
       "      <td>20-07-2019</td>\n",
       "      <td>05-01-2012</td>\n",
       "      <td>https://resources.kamernet.nl/Content/images/p...</td>\n",
       "      <td>NaN</td>\n",
       "    </tr>\n",
       "    <tr>\n",
       "      <th>2</th>\n",
       "      <td>{'$oid': '5d2b113a43cbfd7c77a99931'}</td>\n",
       "      <td>room-1690545</td>\n",
       "      <td>11 m2</td>\n",
       "      <td>11</td>\n",
       "      <td>Amsterdam</td>\n",
       "      <td>https://resources.kamernet.nl/image/74b93a27-a...</td>\n",
       "      <td>done</td>\n",
       "      <td>{'$date': '2019-10-02T22:00:33.141+0000'}</td>\n",
       "      <td>[{'$date': '2019-07-14T11:25:46.834+0000'}, {'...</td>\n",
       "      <td>{'$date': '2019-07-14T11:25:46.834+0000'}</td>\n",
       "      <td>...</td>\n",
       "      <td>1</td>\n",
       "      <td>Shared</td>\n",
       "      <td>Yes</td>\n",
       "      <td>Shared</td>\n",
       "      <td>Felix</td>\n",
       "      <td>4466569.0</td>\n",
       "      <td>20-07-2019</td>\n",
       "      <td>05-07-2018</td>\n",
       "      <td>https://resources.kamernet.nl/Content/images/p...</td>\n",
       "      <td>NaN</td>\n",
       "    </tr>\n",
       "    <tr>\n",
       "      <th>3</th>\n",
       "      <td>{'$oid': '5d2b113a43cbfd7c77a9994a'}</td>\n",
       "      <td>room-1680036</td>\n",
       "      <td>16 m2</td>\n",
       "      <td>16</td>\n",
       "      <td>Assen</td>\n",
       "      <td>https://resources.kamernet.nl/image/84e95365-6...</td>\n",
       "      <td>done</td>\n",
       "      <td>{'$date': '2019-07-18T22:00:31.018+0000'}</td>\n",
       "      <td>[{'$date': '2019-07-14T11:25:46.988+0000'}, {'...</td>\n",
       "      <td>{'$date': '2019-07-14T11:25:46.988+0000'}</td>\n",
       "      <td>...</td>\n",
       "      <td>4</td>\n",
       "      <td>Shared</td>\n",
       "      <td>Yes</td>\n",
       "      <td>Shared</td>\n",
       "      <td>Albert</td>\n",
       "      <td>783341.0</td>\n",
       "      <td>26-07-2019</td>\n",
       "      <td>09-11-2006</td>\n",
       "      <td>https://resources.kamernet.nl/Content/images/p...</td>\n",
       "      <td>NaN</td>\n",
       "    </tr>\n",
       "    <tr>\n",
       "      <th>4</th>\n",
       "      <td>{'$oid': '5d2b113b43cbfd7c77a9997c'}</td>\n",
       "      <td>room-1691356</td>\n",
       "      <td>22 m2</td>\n",
       "      <td>22</td>\n",
       "      <td>Rotterdam</td>\n",
       "      <td>https://resources.kamernet.nl/Content/images/p...</td>\n",
       "      <td>done</td>\n",
       "      <td>{'$date': '2019-08-12T02:06:14.635+0000'}</td>\n",
       "      <td>[{'$date': '2019-07-14T11:25:47.193+0000'}, {'...</td>\n",
       "      <td>{'$date': '2019-07-14T11:25:47.193+0000'}</td>\n",
       "      <td>...</td>\n",
       "      <td>1</td>\n",
       "      <td>Shared</td>\n",
       "      <td>No</td>\n",
       "      <td>Shared</td>\n",
       "      <td>John</td>\n",
       "      <td>3338401.0</td>\n",
       "      <td>19-07-2019</td>\n",
       "      <td>24-08-2014</td>\n",
       "      <td>https://resources.kamernet.nl/image/3177baf7-5...</td>\n",
       "      <td>NaN</td>\n",
       "    </tr>\n",
       "  </tbody>\n",
       "</table>\n",
       "<p>5 rows × 62 columns</p>\n",
       "</div>"
      ],
      "text/plain": [
       "                                    _id      externalId areaRaw  areaSqm  \\\n",
       "0  {'$oid': '5d2b113a43cbfd7c77a998f4'}    room-1686123   14 m2       14   \n",
       "1  {'$oid': '5d2b113a43cbfd7c77a9991a'}  studio-1691193   30 m2       30   \n",
       "2  {'$oid': '5d2b113a43cbfd7c77a99931'}    room-1690545   11 m2       11   \n",
       "3  {'$oid': '5d2b113a43cbfd7c77a9994a'}    room-1680036   16 m2       16   \n",
       "4  {'$oid': '5d2b113b43cbfd7c77a9997c'}    room-1691356   22 m2       22   \n",
       "\n",
       "        city                                      coverImageUrl crawlStatus  \\\n",
       "0  Rotterdam  https://resources.kamernet.nl/image/913b4b03-5...        done   \n",
       "1  Amsterdam  https://resources.kamernet.nl/image/5e11d6b5-8...        done   \n",
       "2  Amsterdam  https://resources.kamernet.nl/image/74b93a27-a...        done   \n",
       "3      Assen  https://resources.kamernet.nl/image/84e95365-6...        done   \n",
       "4  Rotterdam  https://resources.kamernet.nl/Content/images/p...        done   \n",
       "\n",
       "                                   crawledAt  \\\n",
       "0  {'$date': '2019-07-26T22:18:23.018+0000'}   \n",
       "1  {'$date': '2019-08-10T22:28:46.099+0000'}   \n",
       "2  {'$date': '2019-10-02T22:00:33.141+0000'}   \n",
       "3  {'$date': '2019-07-18T22:00:31.018+0000'}   \n",
       "4  {'$date': '2019-08-12T02:06:14.635+0000'}   \n",
       "\n",
       "                                      datesPublished  \\\n",
       "0  [{'$date': '2019-07-14T11:25:46.511+0000'}, {'...   \n",
       "1  [{'$date': '2019-07-14T11:25:46.677+0000'}, {'...   \n",
       "2  [{'$date': '2019-07-14T11:25:46.834+0000'}, {'...   \n",
       "3  [{'$date': '2019-07-14T11:25:46.988+0000'}, {'...   \n",
       "4  [{'$date': '2019-07-14T11:25:47.193+0000'}, {'...   \n",
       "\n",
       "                                 firstSeenAt  ... roommates  shower  \\\n",
       "0  {'$date': '2019-07-14T11:25:46.511+0000'}  ...         5  Shared   \n",
       "1  {'$date': '2019-07-14T11:25:46.677+0000'}  ...      None     Own   \n",
       "2  {'$date': '2019-07-14T11:25:46.834+0000'}  ...         1  Shared   \n",
       "3  {'$date': '2019-07-14T11:25:46.988+0000'}  ...         4  Shared   \n",
       "4  {'$date': '2019-07-14T11:25:47.193+0000'}  ...         1  Shared   \n",
       "\n",
       "   smokingInside  toilet userDisplayName     userId userLastLoggedOn  \\\n",
       "0             No  Shared      Huize west  4680711.0       21-07-2019   \n",
       "1             No     Own             Cor  1865530.0       20-07-2019   \n",
       "2            Yes  Shared           Felix  4466569.0       20-07-2019   \n",
       "3            Yes  Shared          Albert   783341.0       26-07-2019   \n",
       "4             No  Shared            John  3338401.0       19-07-2019   \n",
       "\n",
       "  userMemberSince                                       userPhotoUrl  \\\n",
       "0      26-06-2019  https://resources.kamernet.nl/Content/images/s...   \n",
       "1      05-01-2012  https://resources.kamernet.nl/Content/images/p...   \n",
       "2      05-07-2018  https://resources.kamernet.nl/Content/images/p...   \n",
       "3      09-11-2006  https://resources.kamernet.nl/Content/images/p...   \n",
       "4      24-08-2014  https://resources.kamernet.nl/image/3177baf7-5...   \n",
       "\n",
       "  additionalCostsDescription  \n",
       "0                        NaN  \n",
       "1                        NaN  \n",
       "2                        NaN  \n",
       "3                        NaN  \n",
       "4                        NaN  \n",
       "\n",
       "[5 rows x 62 columns]"
      ]
     },
     "execution_count": 5,
     "metadata": {},
     "output_type": "execute_result"
    }
   ],
   "source": [
    "df.head()"
   ]
  },
  {
   "cell_type": "code",
   "execution_count": 6,
   "id": "448c0ed3",
   "metadata": {
    "hidden": true
   },
   "outputs": [
    {
     "data": {
      "text/plain": [
       "Index(['_id', 'externalId', 'areaRaw', 'areaSqm', 'city', 'coverImageUrl',\n",
       "       'crawlStatus', 'crawledAt', 'datesPublished', 'firstSeenAt', 'furnish',\n",
       "       'lastSeenAt', 'latitude', 'longitude', 'postalCode', 'postedAgo',\n",
       "       'propertyType', 'rawAvailability', 'rent', 'rentDetail', 'rentRaw',\n",
       "       'source', 'title', 'url', 'additionalCosts', 'additionalCostsRaw',\n",
       "       'deposit', 'depositRaw', 'descriptionNonTranslated',\n",
       "       'descriptionNonTranslatedRaw', 'descriptionTranslated',\n",
       "       'descriptionTranslatedRaw', 'detailsCrawledAt', 'energyLabel', 'gender',\n",
       "       'internet', 'isRoomActive', 'kitchen', 'living', 'matchAge',\n",
       "       'matchAgeBackup', 'matchCapacity', 'matchGender', 'matchGenderBackup',\n",
       "       'matchLanguages', 'matchStatus', 'matchStatusBackup', 'pageDescription',\n",
       "       'pageTitle', 'pets', 'registrationCost', 'registrationCostRaw',\n",
       "       'roommates', 'shower', 'smokingInside', 'toilet', 'userDisplayName',\n",
       "       'userId', 'userLastLoggedOn', 'userMemberSince', 'userPhotoUrl',\n",
       "       'additionalCostsDescription'],\n",
       "      dtype='object')"
      ]
     },
     "execution_count": 6,
     "metadata": {},
     "output_type": "execute_result"
    }
   ],
   "source": [
    "df.columns"
   ]
  },
  {
   "cell_type": "code",
   "execution_count": 7,
   "id": "3d6b1b18",
   "metadata": {
    "hidden": true
   },
   "outputs": [],
   "source": [
    "df['pc4'] = df['postalCode'].str.extract(r'(\\d{4})')"
   ]
  },
  {
   "cell_type": "code",
   "execution_count": 8,
   "id": "10deae69",
   "metadata": {
    "hidden": true
   },
   "outputs": [
    {
     "data": {
      "text/plain": [
       "1824"
      ]
     },
     "execution_count": 8,
     "metadata": {},
     "output_type": "execute_result"
    }
   ],
   "source": [
    "df['pc4'].nunique()"
   ]
  },
  {
   "cell_type": "code",
   "execution_count": 9,
   "id": "7ae0737b",
   "metadata": {
    "hidden": true
   },
   "outputs": [
    {
     "data": {
      "text/plain": [
       "44898"
      ]
     },
     "execution_count": 9,
     "metadata": {},
     "output_type": "execute_result"
    }
   ],
   "source": [
    "df['pc4'].duplicated().sum()"
   ]
  },
  {
   "cell_type": "code",
   "execution_count": 10,
   "id": "4f5323d1",
   "metadata": {
    "hidden": true
   },
   "outputs": [
    {
     "name": "stdout",
     "output_type": "stream",
     "text": [
      "max  2020-03-03 min  2019-07-14\n"
     ]
    }
   ],
   "source": [
    "df['firstSeenAt_str'] = df['firstSeenAt'].astype(str).str.slice(11,21)\n",
    "pd.to_datetime(df['firstSeenAt_str'], format='%Y-%m-%d')\n",
    "df.head()\n",
    "\n",
    "print('max ', df['firstSeenAt_str'].max() , 'min ', df['firstSeenAt_str'].min())"
   ]
  },
  {
   "cell_type": "code",
   "execution_count": 11,
   "id": "87554211",
   "metadata": {
    "hidden": true
   },
   "outputs": [],
   "source": [
    "df['rent_adj'] = df['rent'] * 1.203"
   ]
  },
  {
   "cell_type": "code",
   "execution_count": 12,
   "id": "0080bc40",
   "metadata": {
    "hidden": true
   },
   "outputs": [
    {
     "data": {
      "text/html": [
       "<div>\n",
       "<style scoped>\n",
       "    .dataframe tbody tr th:only-of-type {\n",
       "        vertical-align: middle;\n",
       "    }\n",
       "\n",
       "    .dataframe tbody tr th {\n",
       "        vertical-align: top;\n",
       "    }\n",
       "\n",
       "    .dataframe thead th {\n",
       "        text-align: right;\n",
       "    }\n",
       "</style>\n",
       "<table border=\"1\" class=\"dataframe\">\n",
       "  <thead>\n",
       "    <tr style=\"text-align: right;\">\n",
       "      <th></th>\n",
       "      <th>areaSqm</th>\n",
       "      <th>latitude</th>\n",
       "      <th>longitude</th>\n",
       "      <th>rent</th>\n",
       "      <th>additionalCosts</th>\n",
       "      <th>deposit</th>\n",
       "      <th>userId</th>\n",
       "      <th>rent_adj</th>\n",
       "    </tr>\n",
       "  </thead>\n",
       "  <tbody>\n",
       "    <tr>\n",
       "      <th>count</th>\n",
       "      <td>46722.000000</td>\n",
       "      <td>46722.000000</td>\n",
       "      <td>46722.000000</td>\n",
       "      <td>46722.000000</td>\n",
       "      <td>14301.000000</td>\n",
       "      <td>27704.000000</td>\n",
       "      <td>4.662200e+04</td>\n",
       "      <td>46722.000000</td>\n",
       "    </tr>\n",
       "    <tr>\n",
       "      <th>mean</th>\n",
       "      <td>31.616626</td>\n",
       "      <td>52.201846</td>\n",
       "      <td>5.314911</td>\n",
       "      <td>667.745516</td>\n",
       "      <td>69.648346</td>\n",
       "      <td>713.447083</td>\n",
       "      <td>3.425398e+06</td>\n",
       "      <td>803.297856</td>\n",
       "    </tr>\n",
       "    <tr>\n",
       "      <th>std</th>\n",
       "      <td>29.863150</td>\n",
       "      <td>0.517203</td>\n",
       "      <td>0.798989</td>\n",
       "      <td>416.667339</td>\n",
       "      <td>132.432817</td>\n",
       "      <td>942.256946</td>\n",
       "      <td>1.327936e+06</td>\n",
       "      <td>501.250809</td>\n",
       "    </tr>\n",
       "    <tr>\n",
       "      <th>min</th>\n",
       "      <td>6.000000</td>\n",
       "      <td>50.770041</td>\n",
       "      <td>3.410016</td>\n",
       "      <td>1.000000</td>\n",
       "      <td>0.000000</td>\n",
       "      <td>0.000000</td>\n",
       "      <td>6.240000e+02</td>\n",
       "      <td>1.203000</td>\n",
       "    </tr>\n",
       "    <tr>\n",
       "      <th>25%</th>\n",
       "      <td>14.000000</td>\n",
       "      <td>51.925491</td>\n",
       "      <td>4.711688</td>\n",
       "      <td>395.000000</td>\n",
       "      <td>0.000000</td>\n",
       "      <td>360.000000</td>\n",
       "      <td>2.894253e+06</td>\n",
       "      <td>475.185000</td>\n",
       "    </tr>\n",
       "    <tr>\n",
       "      <th>50%</th>\n",
       "      <td>20.000000</td>\n",
       "      <td>52.162498</td>\n",
       "      <td>5.082988</td>\n",
       "      <td>550.000000</td>\n",
       "      <td>13.000000</td>\n",
       "      <td>500.000000</td>\n",
       "      <td>3.934324e+06</td>\n",
       "      <td>661.650000</td>\n",
       "    </tr>\n",
       "    <tr>\n",
       "      <th>75%</th>\n",
       "      <td>40.000000</td>\n",
       "      <td>52.370420</td>\n",
       "      <td>5.896362</td>\n",
       "      <td>800.000000</td>\n",
       "      <td>99.000000</td>\n",
       "      <td>850.000000</td>\n",
       "      <td>4.515906e+06</td>\n",
       "      <td>962.400000</td>\n",
       "    </tr>\n",
       "    <tr>\n",
       "      <th>max</th>\n",
       "      <td>675.000000</td>\n",
       "      <td>53.434608</td>\n",
       "      <td>7.206637</td>\n",
       "      <td>5999.000000</td>\n",
       "      <td>5000.000000</td>\n",
       "      <td>107514.000000</td>\n",
       "      <td>4.854533e+06</td>\n",
       "      <td>7216.797000</td>\n",
       "    </tr>\n",
       "  </tbody>\n",
       "</table>\n",
       "</div>"
      ],
      "text/plain": [
       "            areaSqm      latitude     longitude          rent  \\\n",
       "count  46722.000000  46722.000000  46722.000000  46722.000000   \n",
       "mean      31.616626     52.201846      5.314911    667.745516   \n",
       "std       29.863150      0.517203      0.798989    416.667339   \n",
       "min        6.000000     50.770041      3.410016      1.000000   \n",
       "25%       14.000000     51.925491      4.711688    395.000000   \n",
       "50%       20.000000     52.162498      5.082988    550.000000   \n",
       "75%       40.000000     52.370420      5.896362    800.000000   \n",
       "max      675.000000     53.434608      7.206637   5999.000000   \n",
       "\n",
       "       additionalCosts        deposit        userId      rent_adj  \n",
       "count     14301.000000   27704.000000  4.662200e+04  46722.000000  \n",
       "mean         69.648346     713.447083  3.425398e+06    803.297856  \n",
       "std         132.432817     942.256946  1.327936e+06    501.250809  \n",
       "min           0.000000       0.000000  6.240000e+02      1.203000  \n",
       "25%           0.000000     360.000000  2.894253e+06    475.185000  \n",
       "50%          13.000000     500.000000  3.934324e+06    661.650000  \n",
       "75%          99.000000     850.000000  4.515906e+06    962.400000  \n",
       "max        5000.000000  107514.000000  4.854533e+06   7216.797000  "
      ]
     },
     "execution_count": 12,
     "metadata": {},
     "output_type": "execute_result"
    }
   ],
   "source": [
    "df.describe()"
   ]
  },
  {
   "cell_type": "code",
   "execution_count": 13,
   "id": "8cbe8860",
   "metadata": {
    "collapsed": true,
    "hidden": true
   },
   "outputs": [
    {
     "name": "stdout",
     "output_type": "stream",
     "text": [
      "<class 'pandas.core.frame.DataFrame'>\n",
      "RangeIndex: 46722 entries, 0 to 46721\n",
      "Data columns (total 65 columns):\n",
      " #   Column                       Non-Null Count  Dtype  \n",
      "---  ------                       --------------  -----  \n",
      " 0   _id                          46722 non-null  object \n",
      " 1   externalId                   46722 non-null  object \n",
      " 2   areaRaw                      46722 non-null  object \n",
      " 3   areaSqm                      46722 non-null  int64  \n",
      " 4   city                         46722 non-null  object \n",
      " 5   coverImageUrl                46722 non-null  object \n",
      " 6   crawlStatus                  46722 non-null  object \n",
      " 7   crawledAt                    46722 non-null  object \n",
      " 8   datesPublished               46722 non-null  object \n",
      " 9   firstSeenAt                  46722 non-null  object \n",
      " 10  furnish                      46722 non-null  object \n",
      " 11  lastSeenAt                   46722 non-null  object \n",
      " 12  latitude                     46722 non-null  float64\n",
      " 13  longitude                    46722 non-null  float64\n",
      " 14  postalCode                   46722 non-null  object \n",
      " 15  postedAgo                    46722 non-null  object \n",
      " 16  propertyType                 46722 non-null  object \n",
      " 17  rawAvailability              46722 non-null  object \n",
      " 18  rent                         46722 non-null  int64  \n",
      " 19  rentDetail                   46722 non-null  object \n",
      " 20  rentRaw                      46722 non-null  object \n",
      " 21  source                       46722 non-null  object \n",
      " 22  title                        46722 non-null  object \n",
      " 23  url                          46722 non-null  object \n",
      " 24  additionalCosts              14301 non-null  float64\n",
      " 25  additionalCostsRaw           46622 non-null  object \n",
      " 26  deposit                      27704 non-null  float64\n",
      " 27  depositRaw                   46622 non-null  object \n",
      " 28  descriptionNonTranslated     46622 non-null  object \n",
      " 29  descriptionNonTranslatedRaw  46622 non-null  object \n",
      " 30  descriptionTranslated        46622 non-null  object \n",
      " 31  descriptionTranslatedRaw     46622 non-null  object \n",
      " 32  detailsCrawledAt             46722 non-null  object \n",
      " 33  energyLabel                  46622 non-null  object \n",
      " 34  gender                       45810 non-null  object \n",
      " 35  internet                     46622 non-null  object \n",
      " 36  isRoomActive                 46622 non-null  object \n",
      " 37  kitchen                      46622 non-null  object \n",
      " 38  living                       46622 non-null  object \n",
      " 39  matchAge                     46622 non-null  object \n",
      " 40  matchAgeBackup               46622 non-null  object \n",
      " 41  matchCapacity                46622 non-null  object \n",
      " 42  matchGender                  46622 non-null  object \n",
      " 43  matchGenderBackup            46622 non-null  object \n",
      " 44  matchLanguages               46622 non-null  object \n",
      " 45  matchStatus                  46622 non-null  object \n",
      " 46  matchStatusBackup            46622 non-null  object \n",
      " 47  pageDescription              46622 non-null  object \n",
      " 48  pageTitle                    46622 non-null  object \n",
      " 49  pets                         46622 non-null  object \n",
      " 50  registrationCost             4688 non-null   object \n",
      " 51  registrationCostRaw          46622 non-null  object \n",
      " 52  roommates                    45810 non-null  object \n",
      " 53  shower                       46622 non-null  object \n",
      " 54  smokingInside                46622 non-null  object \n",
      " 55  toilet                       46622 non-null  object \n",
      " 56  userDisplayName              46622 non-null  object \n",
      " 57  userId                       46622 non-null  float64\n",
      " 58  userLastLoggedOn             46622 non-null  object \n",
      " 59  userMemberSince              46622 non-null  object \n",
      " 60  userPhotoUrl                 46622 non-null  object \n",
      " 61  additionalCostsDescription   20546 non-null  object \n",
      " 62  pc4                          46722 non-null  object \n",
      " 63  firstSeenAt_str              46722 non-null  object \n",
      " 64  rent_adj                     46722 non-null  float64\n",
      "dtypes: float64(6), int64(2), object(57)\n",
      "memory usage: 23.2+ MB\n"
     ]
    }
   ],
   "source": [
    "df.info()"
   ]
  },
  {
   "cell_type": "code",
   "execution_count": 14,
   "id": "a9264c83",
   "metadata": {
    "hidden": true
   },
   "outputs": [
    {
     "data": {
      "text/plain": [
       "done           46622\n",
       "unavailable      100\n",
       "Name: crawlStatus, dtype: int64"
      ]
     },
     "execution_count": 14,
     "metadata": {},
     "output_type": "execute_result"
    }
   ],
   "source": [
    "df['crawlStatus'].value_counts()"
   ]
  },
  {
   "cell_type": "code",
   "execution_count": 15,
   "id": "398589ca",
   "metadata": {
    "hidden": true
   },
   "outputs": [],
   "source": [
    "df = df[df['crawlStatus'] == 'done']"
   ]
  },
  {
   "cell_type": "code",
   "execution_count": 16,
   "id": "cf3b3f5a",
   "metadata": {
    "hidden": true
   },
   "outputs": [
    {
     "data": {
      "text/plain": [
       "done    46622\n",
       "Name: crawlStatus, dtype: int64"
      ]
     },
     "execution_count": 16,
     "metadata": {},
     "output_type": "execute_result"
    }
   ],
   "source": [
    "df['crawlStatus'].value_counts()"
   ]
  },
  {
   "cell_type": "code",
   "execution_count": 17,
   "id": "310636d1",
   "metadata": {
    "hidden": true
   },
   "outputs": [
    {
     "data": {
      "text/plain": [
       "737"
      ]
     },
     "execution_count": 17,
     "metadata": {},
     "output_type": "execute_result"
    }
   ],
   "source": [
    "df['city'].nunique()"
   ]
  },
  {
   "cell_type": "code",
   "execution_count": 18,
   "id": "5002b9db",
   "metadata": {
    "hidden": true
   },
   "outputs": [
    {
     "data": {
      "text/plain": [
       "44801"
      ]
     },
     "execution_count": 18,
     "metadata": {},
     "output_type": "execute_result"
    }
   ],
   "source": [
    "df['pc4'].duplicated().sum()"
   ]
  },
  {
   "cell_type": "code",
   "execution_count": 20,
   "id": "64c71108",
   "metadata": {
    "hidden": true
   },
   "outputs": [],
   "source": [
    "df_selected = df[['areaSqm', 'city', 'furnish', 'latitude', 'longitude', 'propertyType', 'rent_adj', 'internet', 'kitchen', 'living',\n",
    "            'pets', 'shower', 'smokingInside', 'toilet', 'pc4']]"
   ]
  },
  {
   "cell_type": "code",
   "execution_count": 21,
   "id": "ec2ba0e2",
   "metadata": {
    "hidden": true
   },
   "outputs": [],
   "source": [
    "X = df_selected.drop('rent_adj', axis=1)"
   ]
  },
  {
   "cell_type": "code",
   "execution_count": 22,
   "id": "8760013b",
   "metadata": {
    "hidden": true,
    "scrolled": false
   },
   "outputs": [
    {
     "data": {
      "text/plain": [
       "{'city': 737,\n",
       " 'furnish': 4,\n",
       " 'propertyType': 5,\n",
       " 'internet': 3,\n",
       " 'kitchen': 4,\n",
       " 'living': 4,\n",
       " 'pets': 3,\n",
       " 'shower': 4,\n",
       " 'smokingInside': 3,\n",
       " 'toilet': 4,\n",
       " 'pc4': 1821}"
      ]
     },
     "execution_count": 22,
     "metadata": {},
     "output_type": "execute_result"
    }
   ],
   "source": [
    "{column: len(X[column].unique()) for column in X.select_dtypes(\"object\").columns}"
   ]
  },
  {
   "cell_type": "code",
   "execution_count": 23,
   "id": "26d680b1",
   "metadata": {
    "hidden": true
   },
   "outputs": [],
   "source": [
    "cat_cols = ['city','furnish','propertyType','internet','kitchen','living',\n",
    "            'pets','shower','smokingInside','toilet']\n",
    "\n",
    "def to_nan_clean(s: pd.Series) -> pd.Series:\n",
    "    s = s.astype(\"string\")            # keeps real NA as <NA>\n",
    "    s = s.str.strip()                 # remove spaces\n",
    "    s = s.replace(r'^\\s*$', pd.NA, regex=True)  # empty/whitespace -> NA\n",
    "    s = s.str.lower()\n",
    "    s = s.replace({\n",
    "        'unknown': pd.NA,\n",
    "        'none': pd.NA,\n",
    "        'nan': pd.NA,                 # handles string \"nan\"\n",
    "        'n/a': pd.NA,\n",
    "        'not specified': pd.NA\n",
    "    })\n",
    "    # optional: unify synonyms\n",
    "    s = s.replace({'private':'own', 'yes':'yes', 'no':'no'})\n",
    "    return s"
   ]
  },
  {
   "cell_type": "code",
   "execution_count": 24,
   "id": "627a532c",
   "metadata": {
    "collapsed": true,
    "hidden": true
   },
   "outputs": [
    {
     "name": "stderr",
     "output_type": "stream",
     "text": [
      "/tmp/ipykernel_87235/281890973.py:3: SettingWithCopyWarning: \n",
      "A value is trying to be set on a copy of a slice from a DataFrame.\n",
      "Try using .loc[row_indexer,col_indexer] = value instead\n",
      "\n",
      "See the caveats in the documentation: https://pandas.pydata.org/pandas-docs/stable/user_guide/indexing.html#returning-a-view-versus-a-copy\n",
      "  df_selected[c] = to_nan_clean(df_selected[c])\n"
     ]
    },
    {
     "name": "stdout",
     "output_type": "stream",
     "text": [
      "city amsterdam        8075\n",
      "groningen        5070\n",
      "rotterdam        4461\n",
      "enschede         2297\n",
      "den haag         2183\n",
      "                 ... \n",
      "bocholtz            1\n",
      "rekken              1\n",
      "kloosterburen       1\n",
      "'t harde            1\n",
      "elst ut             1\n",
      "Name: city, Length: 736, dtype: Int64\n",
      "furnish furnished      20887\n",
      "unfurnished    19228\n",
      "uncarpeted      6145\n",
      "<NA>             362\n",
      "Name: furnish, dtype: Int64\n",
      "propertyType room                 30416\n",
      "apartment            11785\n",
      "studio                4080\n",
      "anti-squat             336\n",
      "student residence        5\n",
      "Name: propertyType, dtype: Int64\n",
      "internet yes     35642\n",
      "<NA>     8146\n",
      "no       2834\n",
      "Name: internet, dtype: Int64\n",
      "kitchen shared    27593\n",
      "own       11131\n",
      "<NA>       7898\n",
      "Name: kitchen, dtype: Int64\n",
      "living <NA>      19019\n",
      "shared    15664\n",
      "own       11939\n",
      "Name: living, dtype: Int64\n",
      "pets no                     42686\n",
      "by mutual agreement     1991\n",
      "yes                     1945\n",
      "Name: pets, dtype: Int64\n",
      "shower shared    28752\n",
      "own       10210\n",
      "<NA>       7660\n",
      "Name: shower, dtype: Int64\n",
      "smokingInside no               39700\n",
      "yes               3619\n",
      "not important     3303\n",
      "Name: smokingInside, dtype: Int64\n",
      "toilet shared    28809\n",
      "own       10123\n",
      "<NA>       7690\n",
      "Name: toilet, dtype: Int64\n"
     ]
    }
   ],
   "source": [
    "for c in cat_cols:\n",
    "    if c in df_selected.columns:\n",
    "        df_selected[c] = to_nan_clean(df_selected[c])\n",
    "\n",
    "# sanity check\n",
    "for c in cat_cols:\n",
    "    print(c, df_selected[c].value_counts(dropna=False))"
   ]
  },
  {
   "cell_type": "code",
   "execution_count": 25,
   "id": "17dae178",
   "metadata": {
    "hidden": true
   },
   "outputs": [
    {
     "data": {
      "text/plain": [
       "shared    28809\n",
       "own       10123\n",
       "<NA>       7690\n",
       "Name: toilet, dtype: Int64"
      ]
     },
     "execution_count": 25,
     "metadata": {},
     "output_type": "execute_result"
    }
   ],
   "source": [
    "df_selected['toilet'].value_counts(dropna=False)"
   ]
  },
  {
   "cell_type": "code",
   "execution_count": 26,
   "id": "4a8e4bbf",
   "metadata": {
    "hidden": true
   },
   "outputs": [],
   "source": [
    "X = df_selected.drop('rent_adj', axis=1)"
   ]
  },
  {
   "cell_type": "code",
   "execution_count": 27,
   "id": "472c3b6a",
   "metadata": {
    "hidden": true,
    "scrolled": true
   },
   "outputs": [
    {
     "data": {
      "text/plain": [
       "{'city': 736,\n",
       " 'furnish': 4,\n",
       " 'propertyType': 5,\n",
       " 'internet': 3,\n",
       " 'kitchen': 3,\n",
       " 'living': 3,\n",
       " 'pets': 3,\n",
       " 'shower': 3,\n",
       " 'smokingInside': 3,\n",
       " 'toilet': 3,\n",
       " 'pc4': 1821}"
      ]
     },
     "execution_count": 27,
     "metadata": {},
     "output_type": "execute_result"
    }
   ],
   "source": [
    "{column: len(X[column].unique()) for column in X.select_dtypes(include=[\"string\",\"object\"]).columns}"
   ]
  },
  {
   "cell_type": "code",
   "execution_count": 29,
   "id": "eaea3994",
   "metadata": {
    "hidden": true
   },
   "outputs": [],
   "source": [
    "city_counts = df_selected['city'].value_counts()\n",
    "rare_cities = city_counts[city_counts < 10].index\n",
    "df_selected.loc[df_selected['city'].isin(rare_cities), 'city'] = 'other'"
   ]
  },
  {
   "cell_type": "code",
   "execution_count": 31,
   "id": "b290a5b3",
   "metadata": {
    "hidden": true
   },
   "outputs": [
    {
     "data": {
      "text/plain": [
       "530"
      ]
     },
     "execution_count": 31,
     "metadata": {},
     "output_type": "execute_result"
    }
   ],
   "source": [
    "len (rare_cities)"
   ]
  },
  {
   "cell_type": "code",
   "execution_count": 37,
   "id": "6614dbc3",
   "metadata": {
    "hidden": true
   },
   "outputs": [
    {
     "data": {
      "text/plain": [
       "207"
      ]
     },
     "execution_count": 37,
     "metadata": {},
     "output_type": "execute_result"
    }
   ],
   "source": [
    "df_selected['city'].nunique()"
   ]
  },
  {
   "cell_type": "markdown",
   "id": "3f04bd75",
   "metadata": {},
   "source": [
    "# Saving and loading df"
   ]
  },
  {
   "cell_type": "code",
   "execution_count": 12,
   "id": "c7734ce9",
   "metadata": {
    "collapsed": true
   },
   "outputs": [
    {
     "ename": "NameError",
     "evalue": "name 'df_selected' is not defined",
     "output_type": "error",
     "traceback": [
      "\u001b[0;31m---------------------------------------------------------------------------\u001b[0m",
      "\u001b[0;31mNameError\u001b[0m                                 Traceback (most recent call last)",
      "Cell \u001b[0;32mIn [12], line 1\u001b[0m\n\u001b[0;32m----> 1\u001b[0m \u001b[43mdf_selected\u001b[49m\u001b[38;5;241m.\u001b[39mto_parquet(\u001b[38;5;124m\"\u001b[39m\u001b[38;5;124mdf_selected.parquet\u001b[39m\u001b[38;5;124m\"\u001b[39m, index\u001b[38;5;241m=\u001b[39m\u001b[38;5;28;01mFalse\u001b[39;00m)\n",
      "\u001b[0;31mNameError\u001b[0m: name 'df_selected' is not defined"
     ]
    }
   ],
   "source": [
    "df_selected.to_parquet(\"df_selected.parquet\", index=False)"
   ]
  },
  {
   "cell_type": "code",
   "execution_count": 13,
   "id": "c4f81ac2",
   "metadata": {},
   "outputs": [],
   "source": [
    "df_selected= pd.read_parquet(\"df_selected.parquet\")"
   ]
  },
  {
   "cell_type": "code",
   "execution_count": 14,
   "id": "8e052793",
   "metadata": {},
   "outputs": [],
   "source": [
    "df_selected['rent_adj'] = df_selected['rent_adj'] * 1.3"
   ]
  },
  {
   "cell_type": "code",
   "execution_count": 15,
   "id": "9c72107b",
   "metadata": {},
   "outputs": [
    {
     "data": {
      "text/html": [
       "<div>\n",
       "<style scoped>\n",
       "    .dataframe tbody tr th:only-of-type {\n",
       "        vertical-align: middle;\n",
       "    }\n",
       "\n",
       "    .dataframe tbody tr th {\n",
       "        vertical-align: top;\n",
       "    }\n",
       "\n",
       "    .dataframe thead th {\n",
       "        text-align: right;\n",
       "    }\n",
       "</style>\n",
       "<table border=\"1\" class=\"dataframe\">\n",
       "  <thead>\n",
       "    <tr style=\"text-align: right;\">\n",
       "      <th></th>\n",
       "      <th>areaSqm</th>\n",
       "      <th>city</th>\n",
       "      <th>furnish</th>\n",
       "      <th>latitude</th>\n",
       "      <th>longitude</th>\n",
       "      <th>propertyType</th>\n",
       "      <th>rent_adj</th>\n",
       "      <th>internet</th>\n",
       "      <th>kitchen</th>\n",
       "      <th>living</th>\n",
       "      <th>pets</th>\n",
       "      <th>shower</th>\n",
       "      <th>smokingInside</th>\n",
       "      <th>toilet</th>\n",
       "      <th>pc4</th>\n",
       "    </tr>\n",
       "  </thead>\n",
       "  <tbody>\n",
       "    <tr>\n",
       "      <th>0</th>\n",
       "      <td>14</td>\n",
       "      <td>rotterdam</td>\n",
       "      <td>unfurnished</td>\n",
       "      <td>51.896601</td>\n",
       "      <td>4.514993</td>\n",
       "      <td>room</td>\n",
       "      <td>781.9500</td>\n",
       "      <td>yes</td>\n",
       "      <td>shared</td>\n",
       "      <td>&lt;NA&gt;</td>\n",
       "      <td>no</td>\n",
       "      <td>shared</td>\n",
       "      <td>no</td>\n",
       "      <td>shared</td>\n",
       "      <td>3074</td>\n",
       "    </tr>\n",
       "    <tr>\n",
       "      <th>1</th>\n",
       "      <td>30</td>\n",
       "      <td>amsterdam</td>\n",
       "      <td>furnished</td>\n",
       "      <td>52.370200</td>\n",
       "      <td>4.920721</td>\n",
       "      <td>studio</td>\n",
       "      <td>1485.7050</td>\n",
       "      <td>yes</td>\n",
       "      <td>own</td>\n",
       "      <td>own</td>\n",
       "      <td>no</td>\n",
       "      <td>own</td>\n",
       "      <td>no</td>\n",
       "      <td>own</td>\n",
       "      <td>1018</td>\n",
       "    </tr>\n",
       "    <tr>\n",
       "      <th>2</th>\n",
       "      <td>11</td>\n",
       "      <td>amsterdam</td>\n",
       "      <td>furnished</td>\n",
       "      <td>52.350880</td>\n",
       "      <td>4.854786</td>\n",
       "      <td>room</td>\n",
       "      <td>1563.9000</td>\n",
       "      <td>yes</td>\n",
       "      <td>shared</td>\n",
       "      <td>shared</td>\n",
       "      <td>yes</td>\n",
       "      <td>shared</td>\n",
       "      <td>yes</td>\n",
       "      <td>shared</td>\n",
       "      <td>1075</td>\n",
       "    </tr>\n",
       "    <tr>\n",
       "      <th>3</th>\n",
       "      <td>16</td>\n",
       "      <td>assen</td>\n",
       "      <td>unfurnished</td>\n",
       "      <td>53.013494</td>\n",
       "      <td>6.561012</td>\n",
       "      <td>room</td>\n",
       "      <td>453.5310</td>\n",
       "      <td>yes</td>\n",
       "      <td>shared</td>\n",
       "      <td>&lt;NA&gt;</td>\n",
       "      <td>no</td>\n",
       "      <td>shared</td>\n",
       "      <td>yes</td>\n",
       "      <td>shared</td>\n",
       "      <td>9407</td>\n",
       "    </tr>\n",
       "    <tr>\n",
       "      <th>4</th>\n",
       "      <td>22</td>\n",
       "      <td>rotterdam</td>\n",
       "      <td>unfurnished</td>\n",
       "      <td>51.932871</td>\n",
       "      <td>4.479732</td>\n",
       "      <td>room</td>\n",
       "      <td>742.8525</td>\n",
       "      <td>&lt;NA&gt;</td>\n",
       "      <td>own</td>\n",
       "      <td>own</td>\n",
       "      <td>no</td>\n",
       "      <td>shared</td>\n",
       "      <td>no</td>\n",
       "      <td>shared</td>\n",
       "      <td>3035</td>\n",
       "    </tr>\n",
       "    <tr>\n",
       "      <th>...</th>\n",
       "      <td>...</td>\n",
       "      <td>...</td>\n",
       "      <td>...</td>\n",
       "      <td>...</td>\n",
       "      <td>...</td>\n",
       "      <td>...</td>\n",
       "      <td>...</td>\n",
       "      <td>...</td>\n",
       "      <td>...</td>\n",
       "      <td>...</td>\n",
       "      <td>...</td>\n",
       "      <td>...</td>\n",
       "      <td>...</td>\n",
       "      <td>...</td>\n",
       "      <td>...</td>\n",
       "    </tr>\n",
       "    <tr>\n",
       "      <th>46617</th>\n",
       "      <td>28</td>\n",
       "      <td>rotterdam</td>\n",
       "      <td>furnished</td>\n",
       "      <td>51.928624</td>\n",
       "      <td>4.507187</td>\n",
       "      <td>room</td>\n",
       "      <td>1251.1200</td>\n",
       "      <td>yes</td>\n",
       "      <td>shared</td>\n",
       "      <td>shared</td>\n",
       "      <td>no</td>\n",
       "      <td>shared</td>\n",
       "      <td>no</td>\n",
       "      <td>shared</td>\n",
       "      <td>3061</td>\n",
       "    </tr>\n",
       "    <tr>\n",
       "      <th>46618</th>\n",
       "      <td>16</td>\n",
       "      <td>harmelen</td>\n",
       "      <td>furnished</td>\n",
       "      <td>52.086568</td>\n",
       "      <td>4.959942</td>\n",
       "      <td>room</td>\n",
       "      <td>625.5600</td>\n",
       "      <td>yes</td>\n",
       "      <td>shared</td>\n",
       "      <td>shared</td>\n",
       "      <td>no</td>\n",
       "      <td>shared</td>\n",
       "      <td>no</td>\n",
       "      <td>shared</td>\n",
       "      <td>3481</td>\n",
       "    </tr>\n",
       "    <tr>\n",
       "      <th>46619</th>\n",
       "      <td>30</td>\n",
       "      <td>rotterdam</td>\n",
       "      <td>furnished</td>\n",
       "      <td>51.928624</td>\n",
       "      <td>4.507187</td>\n",
       "      <td>room</td>\n",
       "      <td>1485.7050</td>\n",
       "      <td>yes</td>\n",
       "      <td>shared</td>\n",
       "      <td>shared</td>\n",
       "      <td>no</td>\n",
       "      <td>shared</td>\n",
       "      <td>no</td>\n",
       "      <td>shared</td>\n",
       "      <td>3061</td>\n",
       "    </tr>\n",
       "    <tr>\n",
       "      <th>46620</th>\n",
       "      <td>35</td>\n",
       "      <td>rotterdam</td>\n",
       "      <td>furnished</td>\n",
       "      <td>51.928624</td>\n",
       "      <td>4.507187</td>\n",
       "      <td>room</td>\n",
       "      <td>1642.0950</td>\n",
       "      <td>yes</td>\n",
       "      <td>shared</td>\n",
       "      <td>shared</td>\n",
       "      <td>no</td>\n",
       "      <td>shared</td>\n",
       "      <td>no</td>\n",
       "      <td>shared</td>\n",
       "      <td>3061</td>\n",
       "    </tr>\n",
       "    <tr>\n",
       "      <th>46621</th>\n",
       "      <td>25</td>\n",
       "      <td>rotterdam</td>\n",
       "      <td>furnished</td>\n",
       "      <td>51.921077</td>\n",
       "      <td>4.463528</td>\n",
       "      <td>studio</td>\n",
       "      <td>1154.1582</td>\n",
       "      <td>yes</td>\n",
       "      <td>shared</td>\n",
       "      <td>own</td>\n",
       "      <td>no</td>\n",
       "      <td>shared</td>\n",
       "      <td>no</td>\n",
       "      <td>shared</td>\n",
       "      <td>3014</td>\n",
       "    </tr>\n",
       "  </tbody>\n",
       "</table>\n",
       "<p>46622 rows × 15 columns</p>\n",
       "</div>"
      ],
      "text/plain": [
       "       areaSqm       city      furnish   latitude  longitude propertyType  \\\n",
       "0           14  rotterdam  unfurnished  51.896601   4.514993         room   \n",
       "1           30  amsterdam    furnished  52.370200   4.920721       studio   \n",
       "2           11  amsterdam    furnished  52.350880   4.854786         room   \n",
       "3           16      assen  unfurnished  53.013494   6.561012         room   \n",
       "4           22  rotterdam  unfurnished  51.932871   4.479732         room   \n",
       "...        ...        ...          ...        ...        ...          ...   \n",
       "46617       28  rotterdam    furnished  51.928624   4.507187         room   \n",
       "46618       16   harmelen    furnished  52.086568   4.959942         room   \n",
       "46619       30  rotterdam    furnished  51.928624   4.507187         room   \n",
       "46620       35  rotterdam    furnished  51.928624   4.507187         room   \n",
       "46621       25  rotterdam    furnished  51.921077   4.463528       studio   \n",
       "\n",
       "        rent_adj internet kitchen  living pets  shower smokingInside  toilet  \\\n",
       "0       781.9500      yes  shared    <NA>   no  shared            no  shared   \n",
       "1      1485.7050      yes     own     own   no     own            no     own   \n",
       "2      1563.9000      yes  shared  shared  yes  shared           yes  shared   \n",
       "3       453.5310      yes  shared    <NA>   no  shared           yes  shared   \n",
       "4       742.8525     <NA>     own     own   no  shared            no  shared   \n",
       "...          ...      ...     ...     ...  ...     ...           ...     ...   \n",
       "46617  1251.1200      yes  shared  shared   no  shared            no  shared   \n",
       "46618   625.5600      yes  shared  shared   no  shared            no  shared   \n",
       "46619  1485.7050      yes  shared  shared   no  shared            no  shared   \n",
       "46620  1642.0950      yes  shared  shared   no  shared            no  shared   \n",
       "46621  1154.1582      yes  shared     own   no  shared            no  shared   \n",
       "\n",
       "        pc4  \n",
       "0      3074  \n",
       "1      1018  \n",
       "2      1075  \n",
       "3      9407  \n",
       "4      3035  \n",
       "...     ...  \n",
       "46617  3061  \n",
       "46618  3481  \n",
       "46619  3061  \n",
       "46620  3061  \n",
       "46621  3014  \n",
       "\n",
       "[46622 rows x 15 columns]"
      ]
     },
     "execution_count": 15,
     "metadata": {},
     "output_type": "execute_result"
    }
   ],
   "source": [
    "df_selected"
   ]
  },
  {
   "cell_type": "code",
   "execution_count": 16,
   "id": "33d8443d",
   "metadata": {},
   "outputs": [
    {
     "data": {
      "text/plain": [
       "1821"
      ]
     },
     "execution_count": 16,
     "metadata": {},
     "output_type": "execute_result"
    }
   ],
   "source": [
    "df_selected['pc4'].nunique()"
   ]
  },
  {
   "cell_type": "code",
   "execution_count": 17,
   "id": "5130df30",
   "metadata": {},
   "outputs": [],
   "source": [
    "target = 'rent_adj'\n",
    "features = ['areaSqm', 'city', 'furnish', 'latitude', 'longitude', 'propertyType', 'internet', 'kitchen', 'living',\n",
    "            'pets', 'shower', 'smokingInside', 'toilet', 'pc4']\n",
    "# 1) Split first\n",
    "train_idx, test_idx = train_test_split(df_selected.index, test_size=0.15, random_state=42)\n",
    "train = df_selected.loc[train_idx].copy()\n",
    "test  = df_selected.loc[test_idx].copy()\n",
    "\n",
    "# 2) Compute priors *on train only*\n",
    "gmean = train[target].mean()\n",
    "m = 50  # smoothing strength\n",
    "\n",
    "city_stats = train.groupby('city')[target].agg(['mean','size'])\n",
    "city_stats['city_prior'] = (city_stats['size']*city_stats['mean'] + m*gmean) / (city_stats['size'] + m)\n",
    "\n",
    "pc4_stats = train.groupby('pc4')[target].agg(['mean','size'])\n",
    "pc4_stats['pc4_prior'] = (pc4_stats['size']*pc4_stats['mean'] + m*gmean) / (pc4_stats['size'] + m)\n",
    "\n",
    "# 3) Apply priors to train and test \n",
    "train['city_prior'] = train['city'].map(city_stats['city_prior']).fillna(gmean)\n",
    "test['city_prior']  = test['city'].map(city_stats['city_prior']).fillna(gmean)\n",
    "\n",
    "train['pc4_prior']  = train['pc4'].map(pc4_stats['pc4_prior']).fillna(train['city_prior']).fillna(gmean)\n",
    "test['pc4_prior']   = test['pc4'].map(pc4_stats['pc4_prior']).fillna(test['city_prior']).fillna(gmean)\n"
   ]
  },
  {
   "cell_type": "code",
   "execution_count": 18,
   "id": "b5b042cd",
   "metadata": {},
   "outputs": [
    {
     "data": {
      "text/html": [
       "<div>\n",
       "<style scoped>\n",
       "    .dataframe tbody tr th:only-of-type {\n",
       "        vertical-align: middle;\n",
       "    }\n",
       "\n",
       "    .dataframe tbody tr th {\n",
       "        vertical-align: top;\n",
       "    }\n",
       "\n",
       "    .dataframe thead th {\n",
       "        text-align: right;\n",
       "    }\n",
       "</style>\n",
       "<table border=\"1\" class=\"dataframe\">\n",
       "  <thead>\n",
       "    <tr style=\"text-align: right;\">\n",
       "      <th></th>\n",
       "      <th>mean</th>\n",
       "      <th>size</th>\n",
       "      <th>city_prior</th>\n",
       "    </tr>\n",
       "    <tr>\n",
       "      <th>city</th>\n",
       "      <th></th>\n",
       "      <th></th>\n",
       "      <th></th>\n",
       "    </tr>\n",
       "  </thead>\n",
       "  <tbody>\n",
       "    <tr>\n",
       "      <th>aalsmeer</th>\n",
       "      <td>1632.364067</td>\n",
       "      <td>18</td>\n",
       "      <td>1198.816809</td>\n",
       "    </tr>\n",
       "    <tr>\n",
       "      <th>abcoude</th>\n",
       "      <td>1032.382520</td>\n",
       "      <td>15</td>\n",
       "      <td>1040.349656</td>\n",
       "    </tr>\n",
       "    <tr>\n",
       "      <th>alkmaar</th>\n",
       "      <td>981.515153</td>\n",
       "      <td>163</td>\n",
       "      <td>995.887135</td>\n",
       "    </tr>\n",
       "    <tr>\n",
       "      <th>almelo</th>\n",
       "      <td>693.970600</td>\n",
       "      <td>39</td>\n",
       "      <td>889.908351</td>\n",
       "    </tr>\n",
       "    <tr>\n",
       "      <th>almere</th>\n",
       "      <td>1026.951052</td>\n",
       "      <td>524</td>\n",
       "      <td>1028.326378</td>\n",
       "    </tr>\n",
       "    <tr>\n",
       "      <th>...</th>\n",
       "      <td>...</td>\n",
       "      <td>...</td>\n",
       "      <td>...</td>\n",
       "    </tr>\n",
       "    <tr>\n",
       "      <th>zoetermeer</th>\n",
       "      <td>749.928507</td>\n",
       "      <td>61</td>\n",
       "      <td>881.825484</td>\n",
       "    </tr>\n",
       "    <tr>\n",
       "      <th>zoeterwoude</th>\n",
       "      <td>2248.540667</td>\n",
       "      <td>9</td>\n",
       "      <td>1226.675522</td>\n",
       "    </tr>\n",
       "    <tr>\n",
       "      <th>zuidhorn</th>\n",
       "      <td>822.263867</td>\n",
       "      <td>9</td>\n",
       "      <td>1009.107875</td>\n",
       "    </tr>\n",
       "    <tr>\n",
       "      <th>zutphen</th>\n",
       "      <td>747.636194</td>\n",
       "      <td>34</td>\n",
       "      <td>923.293100</td>\n",
       "    </tr>\n",
       "    <tr>\n",
       "      <th>zwolle</th>\n",
       "      <td>914.376725</td>\n",
       "      <td>347</td>\n",
       "      <td>930.543359</td>\n",
       "    </tr>\n",
       "  </tbody>\n",
       "</table>\n",
       "<p>207 rows × 3 columns</p>\n",
       "</div>"
      ],
      "text/plain": [
       "                    mean  size   city_prior\n",
       "city                                       \n",
       "aalsmeer     1632.364067    18  1198.816809\n",
       "abcoude      1032.382520    15  1040.349656\n",
       "alkmaar       981.515153   163   995.887135\n",
       "almelo        693.970600    39   889.908351\n",
       "almere       1026.951052   524  1028.326378\n",
       "...                  ...   ...          ...\n",
       "zoetermeer    749.928507    61   881.825484\n",
       "zoeterwoude  2248.540667     9  1226.675522\n",
       "zuidhorn      822.263867     9  1009.107875\n",
       "zutphen       747.636194    34   923.293100\n",
       "zwolle        914.376725   347   930.543359\n",
       "\n",
       "[207 rows x 3 columns]"
      ]
     },
     "execution_count": 18,
     "metadata": {},
     "output_type": "execute_result"
    }
   ],
   "source": [
    "city_stats"
   ]
  },
  {
   "cell_type": "code",
   "execution_count": 19,
   "id": "9847066d",
   "metadata": {},
   "outputs": [
    {
     "name": "stdout",
     "output_type": "stream",
     "text": [
      "46622 39628 6994\n"
     ]
    }
   ],
   "source": [
    "print (len(df_selected), len(train), len(test))"
   ]
  },
  {
   "cell_type": "code",
   "execution_count": 20,
   "id": "5cc9944d",
   "metadata": {},
   "outputs": [
    {
     "data": {
      "text/html": [
       "<div>\n",
       "<style scoped>\n",
       "    .dataframe tbody tr th:only-of-type {\n",
       "        vertical-align: middle;\n",
       "    }\n",
       "\n",
       "    .dataframe tbody tr th {\n",
       "        vertical-align: top;\n",
       "    }\n",
       "\n",
       "    .dataframe thead th {\n",
       "        text-align: right;\n",
       "    }\n",
       "</style>\n",
       "<table border=\"1\" class=\"dataframe\">\n",
       "  <thead>\n",
       "    <tr style=\"text-align: right;\">\n",
       "      <th></th>\n",
       "      <th>mean</th>\n",
       "      <th>size</th>\n",
       "      <th>pc4_prior</th>\n",
       "    </tr>\n",
       "    <tr>\n",
       "      <th>pc4</th>\n",
       "      <th></th>\n",
       "      <th></th>\n",
       "      <th></th>\n",
       "    </tr>\n",
       "  </thead>\n",
       "  <tbody>\n",
       "    <tr>\n",
       "      <th>1011</th>\n",
       "      <td>1882.153650</td>\n",
       "      <td>66</td>\n",
       "      <td>1520.337334</td>\n",
       "    </tr>\n",
       "    <tr>\n",
       "      <th>1012</th>\n",
       "      <td>2027.272399</td>\n",
       "      <td>140</td>\n",
       "      <td>1768.184872</td>\n",
       "    </tr>\n",
       "    <tr>\n",
       "      <th>1013</th>\n",
       "      <td>1851.741810</td>\n",
       "      <td>130</td>\n",
       "      <td>1627.019028</td>\n",
       "    </tr>\n",
       "    <tr>\n",
       "      <th>1014</th>\n",
       "      <td>2389.639200</td>\n",
       "      <td>6</td>\n",
       "      <td>1187.050447</td>\n",
       "    </tr>\n",
       "    <tr>\n",
       "      <th>1015</th>\n",
       "      <td>1943.193141</td>\n",
       "      <td>66</td>\n",
       "      <td>1555.066699</td>\n",
       "    </tr>\n",
       "    <tr>\n",
       "      <th>...</th>\n",
       "      <td>...</td>\n",
       "      <td>...</td>\n",
       "      <td>...</td>\n",
       "    </tr>\n",
       "    <tr>\n",
       "      <th>9936</th>\n",
       "      <td>602.101500</td>\n",
       "      <td>1</td>\n",
       "      <td>1034.099830</td>\n",
       "    </tr>\n",
       "    <tr>\n",
       "      <th>9942</th>\n",
       "      <td>1016.535000</td>\n",
       "      <td>1</td>\n",
       "      <td>1042.225977</td>\n",
       "    </tr>\n",
       "    <tr>\n",
       "      <th>9948</th>\n",
       "      <td>397.230600</td>\n",
       "      <td>5</td>\n",
       "      <td>984.057142</td>\n",
       "    </tr>\n",
       "    <tr>\n",
       "      <th>9951</th>\n",
       "      <td>430.072500</td>\n",
       "      <td>3</td>\n",
       "      <td>1008.060516</td>\n",
       "    </tr>\n",
       "    <tr>\n",
       "      <th>9977</th>\n",
       "      <td>1399.690500</td>\n",
       "      <td>1</td>\n",
       "      <td>1049.738830</td>\n",
       "    </tr>\n",
       "  </tbody>\n",
       "</table>\n",
       "<p>1761 rows × 3 columns</p>\n",
       "</div>"
      ],
      "text/plain": [
       "             mean  size    pc4_prior\n",
       "pc4                                 \n",
       "1011  1882.153650    66  1520.337334\n",
       "1012  2027.272399   140  1768.184872\n",
       "1013  1851.741810   130  1627.019028\n",
       "1014  2389.639200     6  1187.050447\n",
       "1015  1943.193141    66  1555.066699\n",
       "...           ...   ...          ...\n",
       "9936   602.101500     1  1034.099830\n",
       "9942  1016.535000     1  1042.225977\n",
       "9948   397.230600     5   984.057142\n",
       "9951   430.072500     3  1008.060516\n",
       "9977  1399.690500     1  1049.738830\n",
       "\n",
       "[1761 rows x 3 columns]"
      ]
     },
     "execution_count": 20,
     "metadata": {},
     "output_type": "execute_result"
    }
   ],
   "source": [
    "pc4_stats"
   ]
  },
  {
   "cell_type": "code",
   "execution_count": 21,
   "id": "eca6040f",
   "metadata": {},
   "outputs": [
    {
     "data": {
      "text/plain": [
       "1761"
      ]
     },
     "execution_count": 21,
     "metadata": {},
     "output_type": "execute_result"
    }
   ],
   "source": [
    "train['pc4'].nunique()"
   ]
  },
  {
   "cell_type": "markdown",
   "id": "777c6efb",
   "metadata": {},
   "source": [
    "# Preprocessing of data"
   ]
  },
  {
   "cell_type": "code",
   "execution_count": 22,
   "id": "25b8774d",
   "metadata": {},
   "outputs": [],
   "source": [
    "# You already have: train, test with city_prior & pc4_prior added\n",
    "target = 'rent_adj'\n",
    "\n",
    "# NUMERIC features (add more if you like, e.g. additionalCosts/deposit if present)\n",
    "num_cols = ['areaSqm', 'latitude', 'longitude', 'city_prior', 'pc4_prior']\n",
    "\n",
    "# CATEGORICAL features (low-cardinality)\n",
    "cat_cols = ['propertyType','furnish','internet','kitchen','shower','toilet','living','smokingInside','pets']\n"
   ]
  },
  {
   "cell_type": "code",
   "execution_count": 23,
   "id": "125c7eb0",
   "metadata": {},
   "outputs": [],
   "source": [
    "# Build matrices (drop raw city/pc4 — we use priors instead)\n",
    "X_train = train[num_cols + cat_cols].copy()\n",
    "y_train = train[target].astype(float).copy()\n",
    "\n",
    "X_test  = test[num_cols + cat_cols].copy()\n",
    "y_test  = test[target].astype(float).copy()"
   ]
  },
  {
   "cell_type": "code",
   "execution_count": 24,
   "id": "7c512cfd",
   "metadata": {},
   "outputs": [],
   "source": [
    "# Imputers/encoders\n",
    "num_pre = SimpleImputer(strategy='median')\n",
    "cat_pre = Pipeline(steps=[\n",
    "    ('impute', SimpleImputer(strategy='most_frequent')),\n",
    "    ('ohe', OneHotEncoder(handle_unknown='ignore', sparse_output=False))\n",
    "])\n",
    "\n",
    "pre = ColumnTransformer(\n",
    "    transformers=[\n",
    "        ('num', num_pre, num_cols),\n",
    "        ('cat', cat_pre, cat_cols)\n",
    "    ],\n",
    "    remainder='drop'\n",
    ")"
   ]
  },
  {
   "cell_type": "markdown",
   "id": "9ceb5675",
   "metadata": {},
   "source": [
    "# Modeling"
   ]
  },
  {
   "cell_type": "markdown",
   "id": "217798e9",
   "metadata": {
    "heading_collapsed": true
   },
   "source": [
    "## HistGradientBoost"
   ]
  },
  {
   "cell_type": "code",
   "execution_count": 70,
   "id": "4fa4e2a0",
   "metadata": {
    "hidden": true
   },
   "outputs": [],
   "source": [
    "# Model\n",
    "model = HistGradientBoostingRegressor(\n",
    "    learning_rate=0.06,\n",
    "    max_iter=500,\n",
    "    random_state=42\n",
    ")\n",
    "\n",
    "pipe = Pipeline(steps=[('pre', pre), ('model', model)])\n"
   ]
  },
  {
   "cell_type": "code",
   "execution_count": 75,
   "id": "cc63beb5",
   "metadata": {
    "hidden": true,
    "scrolled": false
   },
   "outputs": [
    {
     "data": {
      "text/html": [
       "<style>#sk-container-id-6 {color: black;}#sk-container-id-6 pre{padding: 0;}#sk-container-id-6 div.sk-toggleable {background-color: white;}#sk-container-id-6 label.sk-toggleable__label {cursor: pointer;display: block;width: 100%;margin-bottom: 0;padding: 0.3em;box-sizing: border-box;text-align: center;}#sk-container-id-6 label.sk-toggleable__label-arrow:before {content: \"▸\";float: left;margin-right: 0.25em;color: #696969;}#sk-container-id-6 label.sk-toggleable__label-arrow:hover:before {color: black;}#sk-container-id-6 div.sk-estimator:hover label.sk-toggleable__label-arrow:before {color: black;}#sk-container-id-6 div.sk-toggleable__content {max-height: 0;max-width: 0;overflow: hidden;text-align: left;background-color: #f0f8ff;}#sk-container-id-6 div.sk-toggleable__content pre {margin: 0.2em;color: black;border-radius: 0.25em;background-color: #f0f8ff;}#sk-container-id-6 input.sk-toggleable__control:checked~div.sk-toggleable__content {max-height: 200px;max-width: 100%;overflow: auto;}#sk-container-id-6 input.sk-toggleable__control:checked~label.sk-toggleable__label-arrow:before {content: \"▾\";}#sk-container-id-6 div.sk-estimator input.sk-toggleable__control:checked~label.sk-toggleable__label {background-color: #d4ebff;}#sk-container-id-6 div.sk-label input.sk-toggleable__control:checked~label.sk-toggleable__label {background-color: #d4ebff;}#sk-container-id-6 input.sk-hidden--visually {border: 0;clip: rect(1px 1px 1px 1px);clip: rect(1px, 1px, 1px, 1px);height: 1px;margin: -1px;overflow: hidden;padding: 0;position: absolute;width: 1px;}#sk-container-id-6 div.sk-estimator {font-family: monospace;background-color: #f0f8ff;border: 1px dotted black;border-radius: 0.25em;box-sizing: border-box;margin-bottom: 0.5em;}#sk-container-id-6 div.sk-estimator:hover {background-color: #d4ebff;}#sk-container-id-6 div.sk-parallel-item::after {content: \"\";width: 100%;border-bottom: 1px solid gray;flex-grow: 1;}#sk-container-id-6 div.sk-label:hover label.sk-toggleable__label {background-color: #d4ebff;}#sk-container-id-6 div.sk-serial::before {content: \"\";position: absolute;border-left: 1px solid gray;box-sizing: border-box;top: 0;bottom: 0;left: 50%;z-index: 0;}#sk-container-id-6 div.sk-serial {display: flex;flex-direction: column;align-items: center;background-color: white;padding-right: 0.2em;padding-left: 0.2em;position: relative;}#sk-container-id-6 div.sk-item {position: relative;z-index: 1;}#sk-container-id-6 div.sk-parallel {display: flex;align-items: stretch;justify-content: center;background-color: white;position: relative;}#sk-container-id-6 div.sk-item::before, #sk-container-id-6 div.sk-parallel-item::before {content: \"\";position: absolute;border-left: 1px solid gray;box-sizing: border-box;top: 0;bottom: 0;left: 50%;z-index: -1;}#sk-container-id-6 div.sk-parallel-item {display: flex;flex-direction: column;z-index: 1;position: relative;background-color: white;}#sk-container-id-6 div.sk-parallel-item:first-child::after {align-self: flex-end;width: 50%;}#sk-container-id-6 div.sk-parallel-item:last-child::after {align-self: flex-start;width: 50%;}#sk-container-id-6 div.sk-parallel-item:only-child::after {width: 0;}#sk-container-id-6 div.sk-dashed-wrapped {border: 1px dashed gray;margin: 0 0.4em 0.5em 0.4em;box-sizing: border-box;padding-bottom: 0.4em;background-color: white;}#sk-container-id-6 div.sk-label label {font-family: monospace;font-weight: bold;display: inline-block;line-height: 1.2em;}#sk-container-id-6 div.sk-label-container {text-align: center;}#sk-container-id-6 div.sk-container {/* jupyter's `normalize.less` sets `[hidden] { display: none; }` but bootstrap.min.css set `[hidden] { display: none !important; }` so we also need the `!important` here to be able to override the default hidden behavior on the sphinx rendered scikit-learn.org. See: https://github.com/scikit-learn/scikit-learn/issues/21755 */display: inline-block !important;position: relative;}#sk-container-id-6 div.sk-text-repr-fallback {display: none;}</style><div id=\"sk-container-id-6\" class=\"sk-top-container\"><div class=\"sk-text-repr-fallback\"><pre>Pipeline(steps=[(&#x27;pre&#x27;,\n",
       "                 ColumnTransformer(transformers=[(&#x27;num&#x27;,\n",
       "                                                  SimpleImputer(strategy=&#x27;median&#x27;),\n",
       "                                                  [&#x27;areaSqm&#x27;, &#x27;latitude&#x27;,\n",
       "                                                   &#x27;longitude&#x27;, &#x27;city_prior&#x27;,\n",
       "                                                   &#x27;pc4_prior&#x27;]),\n",
       "                                                 (&#x27;cat&#x27;,\n",
       "                                                  Pipeline(steps=[(&#x27;impute&#x27;,\n",
       "                                                                   SimpleImputer(strategy=&#x27;most_frequent&#x27;)),\n",
       "                                                                  (&#x27;ohe&#x27;,\n",
       "                                                                   OneHotEncoder(handle_unknown=&#x27;ignore&#x27;,\n",
       "                                                                                 sparse_output=False))]),\n",
       "                                                  [&#x27;propertyType&#x27;, &#x27;furnish&#x27;,\n",
       "                                                   &#x27;internet&#x27;, &#x27;kitchen&#x27;,\n",
       "                                                   &#x27;shower&#x27;, &#x27;toilet&#x27;, &#x27;living&#x27;,\n",
       "                                                   &#x27;smokingInside&#x27;,\n",
       "                                                   &#x27;pets&#x27;])])),\n",
       "                (&#x27;model&#x27;,\n",
       "                 HistGradientBoostingRegressor(learning_rate=0.06, max_iter=500,\n",
       "                                               random_state=42))])</pre><b>In a Jupyter environment, please rerun this cell to show the HTML representation or trust the notebook. <br />On GitHub, the HTML representation is unable to render, please try loading this page with nbviewer.org.</b></div><div class=\"sk-container\" hidden><div class=\"sk-item sk-dashed-wrapped\"><div class=\"sk-label-container\"><div class=\"sk-label sk-toggleable\"><input class=\"sk-toggleable__control sk-hidden--visually\" id=\"sk-estimator-id-41\" type=\"checkbox\" ><label for=\"sk-estimator-id-41\" class=\"sk-toggleable__label sk-toggleable__label-arrow\">Pipeline</label><div class=\"sk-toggleable__content\"><pre>Pipeline(steps=[(&#x27;pre&#x27;,\n",
       "                 ColumnTransformer(transformers=[(&#x27;num&#x27;,\n",
       "                                                  SimpleImputer(strategy=&#x27;median&#x27;),\n",
       "                                                  [&#x27;areaSqm&#x27;, &#x27;latitude&#x27;,\n",
       "                                                   &#x27;longitude&#x27;, &#x27;city_prior&#x27;,\n",
       "                                                   &#x27;pc4_prior&#x27;]),\n",
       "                                                 (&#x27;cat&#x27;,\n",
       "                                                  Pipeline(steps=[(&#x27;impute&#x27;,\n",
       "                                                                   SimpleImputer(strategy=&#x27;most_frequent&#x27;)),\n",
       "                                                                  (&#x27;ohe&#x27;,\n",
       "                                                                   OneHotEncoder(handle_unknown=&#x27;ignore&#x27;,\n",
       "                                                                                 sparse_output=False))]),\n",
       "                                                  [&#x27;propertyType&#x27;, &#x27;furnish&#x27;,\n",
       "                                                   &#x27;internet&#x27;, &#x27;kitchen&#x27;,\n",
       "                                                   &#x27;shower&#x27;, &#x27;toilet&#x27;, &#x27;living&#x27;,\n",
       "                                                   &#x27;smokingInside&#x27;,\n",
       "                                                   &#x27;pets&#x27;])])),\n",
       "                (&#x27;model&#x27;,\n",
       "                 HistGradientBoostingRegressor(learning_rate=0.06, max_iter=500,\n",
       "                                               random_state=42))])</pre></div></div></div><div class=\"sk-serial\"><div class=\"sk-item sk-dashed-wrapped\"><div class=\"sk-label-container\"><div class=\"sk-label sk-toggleable\"><input class=\"sk-toggleable__control sk-hidden--visually\" id=\"sk-estimator-id-42\" type=\"checkbox\" ><label for=\"sk-estimator-id-42\" class=\"sk-toggleable__label sk-toggleable__label-arrow\">pre: ColumnTransformer</label><div class=\"sk-toggleable__content\"><pre>ColumnTransformer(transformers=[(&#x27;num&#x27;, SimpleImputer(strategy=&#x27;median&#x27;),\n",
       "                                 [&#x27;areaSqm&#x27;, &#x27;latitude&#x27;, &#x27;longitude&#x27;,\n",
       "                                  &#x27;city_prior&#x27;, &#x27;pc4_prior&#x27;]),\n",
       "                                (&#x27;cat&#x27;,\n",
       "                                 Pipeline(steps=[(&#x27;impute&#x27;,\n",
       "                                                  SimpleImputer(strategy=&#x27;most_frequent&#x27;)),\n",
       "                                                 (&#x27;ohe&#x27;,\n",
       "                                                  OneHotEncoder(handle_unknown=&#x27;ignore&#x27;,\n",
       "                                                                sparse_output=False))]),\n",
       "                                 [&#x27;propertyType&#x27;, &#x27;furnish&#x27;, &#x27;internet&#x27;,\n",
       "                                  &#x27;kitchen&#x27;, &#x27;shower&#x27;, &#x27;toilet&#x27;, &#x27;living&#x27;,\n",
       "                                  &#x27;smokingInside&#x27;, &#x27;pets&#x27;])])</pre></div></div></div><div class=\"sk-parallel\"><div class=\"sk-parallel-item\"><div class=\"sk-item\"><div class=\"sk-label-container\"><div class=\"sk-label sk-toggleable\"><input class=\"sk-toggleable__control sk-hidden--visually\" id=\"sk-estimator-id-43\" type=\"checkbox\" ><label for=\"sk-estimator-id-43\" class=\"sk-toggleable__label sk-toggleable__label-arrow\">num</label><div class=\"sk-toggleable__content\"><pre>[&#x27;areaSqm&#x27;, &#x27;latitude&#x27;, &#x27;longitude&#x27;, &#x27;city_prior&#x27;, &#x27;pc4_prior&#x27;]</pre></div></div></div><div class=\"sk-serial\"><div class=\"sk-item\"><div class=\"sk-estimator sk-toggleable\"><input class=\"sk-toggleable__control sk-hidden--visually\" id=\"sk-estimator-id-44\" type=\"checkbox\" ><label for=\"sk-estimator-id-44\" class=\"sk-toggleable__label sk-toggleable__label-arrow\">SimpleImputer</label><div class=\"sk-toggleable__content\"><pre>SimpleImputer(strategy=&#x27;median&#x27;)</pre></div></div></div></div></div></div><div class=\"sk-parallel-item\"><div class=\"sk-item\"><div class=\"sk-label-container\"><div class=\"sk-label sk-toggleable\"><input class=\"sk-toggleable__control sk-hidden--visually\" id=\"sk-estimator-id-45\" type=\"checkbox\" ><label for=\"sk-estimator-id-45\" class=\"sk-toggleable__label sk-toggleable__label-arrow\">cat</label><div class=\"sk-toggleable__content\"><pre>[&#x27;propertyType&#x27;, &#x27;furnish&#x27;, &#x27;internet&#x27;, &#x27;kitchen&#x27;, &#x27;shower&#x27;, &#x27;toilet&#x27;, &#x27;living&#x27;, &#x27;smokingInside&#x27;, &#x27;pets&#x27;]</pre></div></div></div><div class=\"sk-serial\"><div class=\"sk-item\"><div class=\"sk-serial\"><div class=\"sk-item\"><div class=\"sk-estimator sk-toggleable\"><input class=\"sk-toggleable__control sk-hidden--visually\" id=\"sk-estimator-id-46\" type=\"checkbox\" ><label for=\"sk-estimator-id-46\" class=\"sk-toggleable__label sk-toggleable__label-arrow\">SimpleImputer</label><div class=\"sk-toggleable__content\"><pre>SimpleImputer(strategy=&#x27;most_frequent&#x27;)</pre></div></div></div><div class=\"sk-item\"><div class=\"sk-estimator sk-toggleable\"><input class=\"sk-toggleable__control sk-hidden--visually\" id=\"sk-estimator-id-47\" type=\"checkbox\" ><label for=\"sk-estimator-id-47\" class=\"sk-toggleable__label sk-toggleable__label-arrow\">OneHotEncoder</label><div class=\"sk-toggleable__content\"><pre>OneHotEncoder(handle_unknown=&#x27;ignore&#x27;, sparse_output=False)</pre></div></div></div></div></div></div></div></div></div></div><div class=\"sk-item\"><div class=\"sk-estimator sk-toggleable\"><input class=\"sk-toggleable__control sk-hidden--visually\" id=\"sk-estimator-id-48\" type=\"checkbox\" ><label for=\"sk-estimator-id-48\" class=\"sk-toggleable__label sk-toggleable__label-arrow\">HistGradientBoostingRegressor</label><div class=\"sk-toggleable__content\"><pre>HistGradientBoostingRegressor(learning_rate=0.06, max_iter=500, random_state=42)</pre></div></div></div></div></div></div></div>"
      ],
      "text/plain": [
       "Pipeline(steps=[('pre',\n",
       "                 ColumnTransformer(transformers=[('num',\n",
       "                                                  SimpleImputer(strategy='median'),\n",
       "                                                  ['areaSqm', 'latitude',\n",
       "                                                   'longitude', 'city_prior',\n",
       "                                                   'pc4_prior']),\n",
       "                                                 ('cat',\n",
       "                                                  Pipeline(steps=[('impute',\n",
       "                                                                   SimpleImputer(strategy='most_frequent')),\n",
       "                                                                  ('ohe',\n",
       "                                                                   OneHotEncoder(handle_unknown='ignore',\n",
       "                                                                                 sparse_output=False))]),\n",
       "                                                  ['propertyType', 'furnish',\n",
       "                                                   'internet', 'kitchen',\n",
       "                                                   'shower', 'toilet', 'living',\n",
       "                                                   'smokingInside',\n",
       "                                                   'pets'])])),\n",
       "                ('model',\n",
       "                 HistGradientBoostingRegressor(learning_rate=0.06, max_iter=500,\n",
       "                                               random_state=42))])"
      ]
     },
     "execution_count": 75,
     "metadata": {},
     "output_type": "execute_result"
    }
   ],
   "source": [
    "# Train \n",
    "pipe.fit(X_train, y_train)"
   ]
  },
  {
   "cell_type": "code",
   "execution_count": 27,
   "id": "6670b657",
   "metadata": {
    "hidden": true
   },
   "outputs": [
    {
     "data": {
      "text/plain": [
       "propertyType     string\n",
       "furnish          string\n",
       "internet         string\n",
       "kitchen          string\n",
       "shower           string\n",
       "toilet           string\n",
       "living           string\n",
       "smokingInside    string\n",
       "pets             string\n",
       "dtype: object"
      ]
     },
     "execution_count": 27,
     "metadata": {},
     "output_type": "execute_result"
    }
   ],
   "source": [
    "X_train[cat_cols].dtypes"
   ]
  },
  {
   "cell_type": "code",
   "execution_count": 28,
   "id": "0b67dc1d",
   "metadata": {
    "hidden": true
   },
   "outputs": [],
   "source": [
    "for c in cat_cols:\n",
    "    X_train[c] = X_train[c].astype(str)\n",
    "    X_test[c]  = X_test[c].astype(str)"
   ]
  },
  {
   "cell_type": "code",
   "execution_count": 29,
   "id": "cfa32d3c",
   "metadata": {
    "hidden": true
   },
   "outputs": [
    {
     "data": {
      "text/plain": [
       "propertyType     object\n",
       "furnish          object\n",
       "internet         object\n",
       "kitchen          object\n",
       "shower           object\n",
       "toilet           object\n",
       "living           object\n",
       "smokingInside    object\n",
       "pets             object\n",
       "dtype: object"
      ]
     },
     "execution_count": 29,
     "metadata": {},
     "output_type": "execute_result"
    }
   ],
   "source": [
    "X_train[cat_cols].dtypes"
   ]
  },
  {
   "cell_type": "code",
   "execution_count": 76,
   "id": "cfd26f02",
   "metadata": {
    "hidden": true
   },
   "outputs": [],
   "source": [
    "# evaluate\n",
    "pred = pipe.predict(X_test)"
   ]
  },
  {
   "cell_type": "code",
   "execution_count": 77,
   "id": "d2877576",
   "metadata": {
    "hidden": true
   },
   "outputs": [
    {
     "name": "stdout",
     "output_type": "stream",
     "text": [
      "Test MAE : 188.64858083557408\n",
      "Test RMSE: 339.3116122469587\n",
      "Test R²  : 0.8141846946310852\n"
     ]
    }
   ],
   "source": [
    "print(\"Test MAE :\", mean_absolute_error(y_test, pred))\n",
    "print(\"Test RMSE:\", mean_squared_error(y_test, pred, squared=False))\n",
    "print(\"Test R²  :\", r2_score(y_test, pred))"
   ]
  },
  {
   "cell_type": "markdown",
   "id": "c4c6fb85",
   "metadata": {
    "heading_collapsed": true
   },
   "source": [
    "## randomforest model"
   ]
  },
  {
   "cell_type": "code",
   "execution_count": 78,
   "id": "0e42831a",
   "metadata": {
    "hidden": true
   },
   "outputs": [],
   "source": [
    "from sklearn.ensemble import RandomForestRegressor\n",
    "from sklearn.metrics import r2_score, mean_absolute_error, mean_squared_error"
   ]
  },
  {
   "cell_type": "code",
   "execution_count": 79,
   "id": "37c05058",
   "metadata": {
    "hidden": true
   },
   "outputs": [
    {
     "data": {
      "text/html": [
       "<style>#sk-container-id-7 {color: black;}#sk-container-id-7 pre{padding: 0;}#sk-container-id-7 div.sk-toggleable {background-color: white;}#sk-container-id-7 label.sk-toggleable__label {cursor: pointer;display: block;width: 100%;margin-bottom: 0;padding: 0.3em;box-sizing: border-box;text-align: center;}#sk-container-id-7 label.sk-toggleable__label-arrow:before {content: \"▸\";float: left;margin-right: 0.25em;color: #696969;}#sk-container-id-7 label.sk-toggleable__label-arrow:hover:before {color: black;}#sk-container-id-7 div.sk-estimator:hover label.sk-toggleable__label-arrow:before {color: black;}#sk-container-id-7 div.sk-toggleable__content {max-height: 0;max-width: 0;overflow: hidden;text-align: left;background-color: #f0f8ff;}#sk-container-id-7 div.sk-toggleable__content pre {margin: 0.2em;color: black;border-radius: 0.25em;background-color: #f0f8ff;}#sk-container-id-7 input.sk-toggleable__control:checked~div.sk-toggleable__content {max-height: 200px;max-width: 100%;overflow: auto;}#sk-container-id-7 input.sk-toggleable__control:checked~label.sk-toggleable__label-arrow:before {content: \"▾\";}#sk-container-id-7 div.sk-estimator input.sk-toggleable__control:checked~label.sk-toggleable__label {background-color: #d4ebff;}#sk-container-id-7 div.sk-label input.sk-toggleable__control:checked~label.sk-toggleable__label {background-color: #d4ebff;}#sk-container-id-7 input.sk-hidden--visually {border: 0;clip: rect(1px 1px 1px 1px);clip: rect(1px, 1px, 1px, 1px);height: 1px;margin: -1px;overflow: hidden;padding: 0;position: absolute;width: 1px;}#sk-container-id-7 div.sk-estimator {font-family: monospace;background-color: #f0f8ff;border: 1px dotted black;border-radius: 0.25em;box-sizing: border-box;margin-bottom: 0.5em;}#sk-container-id-7 div.sk-estimator:hover {background-color: #d4ebff;}#sk-container-id-7 div.sk-parallel-item::after {content: \"\";width: 100%;border-bottom: 1px solid gray;flex-grow: 1;}#sk-container-id-7 div.sk-label:hover label.sk-toggleable__label {background-color: #d4ebff;}#sk-container-id-7 div.sk-serial::before {content: \"\";position: absolute;border-left: 1px solid gray;box-sizing: border-box;top: 0;bottom: 0;left: 50%;z-index: 0;}#sk-container-id-7 div.sk-serial {display: flex;flex-direction: column;align-items: center;background-color: white;padding-right: 0.2em;padding-left: 0.2em;position: relative;}#sk-container-id-7 div.sk-item {position: relative;z-index: 1;}#sk-container-id-7 div.sk-parallel {display: flex;align-items: stretch;justify-content: center;background-color: white;position: relative;}#sk-container-id-7 div.sk-item::before, #sk-container-id-7 div.sk-parallel-item::before {content: \"\";position: absolute;border-left: 1px solid gray;box-sizing: border-box;top: 0;bottom: 0;left: 50%;z-index: -1;}#sk-container-id-7 div.sk-parallel-item {display: flex;flex-direction: column;z-index: 1;position: relative;background-color: white;}#sk-container-id-7 div.sk-parallel-item:first-child::after {align-self: flex-end;width: 50%;}#sk-container-id-7 div.sk-parallel-item:last-child::after {align-self: flex-start;width: 50%;}#sk-container-id-7 div.sk-parallel-item:only-child::after {width: 0;}#sk-container-id-7 div.sk-dashed-wrapped {border: 1px dashed gray;margin: 0 0.4em 0.5em 0.4em;box-sizing: border-box;padding-bottom: 0.4em;background-color: white;}#sk-container-id-7 div.sk-label label {font-family: monospace;font-weight: bold;display: inline-block;line-height: 1.2em;}#sk-container-id-7 div.sk-label-container {text-align: center;}#sk-container-id-7 div.sk-container {/* jupyter's `normalize.less` sets `[hidden] { display: none; }` but bootstrap.min.css set `[hidden] { display: none !important; }` so we also need the `!important` here to be able to override the default hidden behavior on the sphinx rendered scikit-learn.org. See: https://github.com/scikit-learn/scikit-learn/issues/21755 */display: inline-block !important;position: relative;}#sk-container-id-7 div.sk-text-repr-fallback {display: none;}</style><div id=\"sk-container-id-7\" class=\"sk-top-container\"><div class=\"sk-text-repr-fallback\"><pre>Pipeline(steps=[(&#x27;pre&#x27;,\n",
       "                 ColumnTransformer(transformers=[(&#x27;num&#x27;,\n",
       "                                                  SimpleImputer(strategy=&#x27;median&#x27;),\n",
       "                                                  [&#x27;areaSqm&#x27;, &#x27;latitude&#x27;,\n",
       "                                                   &#x27;longitude&#x27;, &#x27;city_prior&#x27;,\n",
       "                                                   &#x27;pc4_prior&#x27;]),\n",
       "                                                 (&#x27;cat&#x27;,\n",
       "                                                  Pipeline(steps=[(&#x27;impute&#x27;,\n",
       "                                                                   SimpleImputer(strategy=&#x27;most_frequent&#x27;)),\n",
       "                                                                  (&#x27;ohe&#x27;,\n",
       "                                                                   OneHotEncoder(handle_unknown=&#x27;ignore&#x27;,\n",
       "                                                                                 sparse_output=False))]),\n",
       "                                                  [&#x27;propertyType&#x27;, &#x27;furnish&#x27;,\n",
       "                                                   &#x27;internet&#x27;, &#x27;kitchen&#x27;,\n",
       "                                                   &#x27;shower&#x27;, &#x27;toilet&#x27;, &#x27;living&#x27;,\n",
       "                                                   &#x27;smokingInside&#x27;,\n",
       "                                                   &#x27;pets&#x27;])])),\n",
       "                (&#x27;model&#x27;,\n",
       "                 RandomForestRegressor(max_features=&#x27;sqrt&#x27;, min_samples_leaf=2,\n",
       "                                       n_estimators=600, n_jobs=-1,\n",
       "                                       random_state=42))])</pre><b>In a Jupyter environment, please rerun this cell to show the HTML representation or trust the notebook. <br />On GitHub, the HTML representation is unable to render, please try loading this page with nbviewer.org.</b></div><div class=\"sk-container\" hidden><div class=\"sk-item sk-dashed-wrapped\"><div class=\"sk-label-container\"><div class=\"sk-label sk-toggleable\"><input class=\"sk-toggleable__control sk-hidden--visually\" id=\"sk-estimator-id-49\" type=\"checkbox\" ><label for=\"sk-estimator-id-49\" class=\"sk-toggleable__label sk-toggleable__label-arrow\">Pipeline</label><div class=\"sk-toggleable__content\"><pre>Pipeline(steps=[(&#x27;pre&#x27;,\n",
       "                 ColumnTransformer(transformers=[(&#x27;num&#x27;,\n",
       "                                                  SimpleImputer(strategy=&#x27;median&#x27;),\n",
       "                                                  [&#x27;areaSqm&#x27;, &#x27;latitude&#x27;,\n",
       "                                                   &#x27;longitude&#x27;, &#x27;city_prior&#x27;,\n",
       "                                                   &#x27;pc4_prior&#x27;]),\n",
       "                                                 (&#x27;cat&#x27;,\n",
       "                                                  Pipeline(steps=[(&#x27;impute&#x27;,\n",
       "                                                                   SimpleImputer(strategy=&#x27;most_frequent&#x27;)),\n",
       "                                                                  (&#x27;ohe&#x27;,\n",
       "                                                                   OneHotEncoder(handle_unknown=&#x27;ignore&#x27;,\n",
       "                                                                                 sparse_output=False))]),\n",
       "                                                  [&#x27;propertyType&#x27;, &#x27;furnish&#x27;,\n",
       "                                                   &#x27;internet&#x27;, &#x27;kitchen&#x27;,\n",
       "                                                   &#x27;shower&#x27;, &#x27;toilet&#x27;, &#x27;living&#x27;,\n",
       "                                                   &#x27;smokingInside&#x27;,\n",
       "                                                   &#x27;pets&#x27;])])),\n",
       "                (&#x27;model&#x27;,\n",
       "                 RandomForestRegressor(max_features=&#x27;sqrt&#x27;, min_samples_leaf=2,\n",
       "                                       n_estimators=600, n_jobs=-1,\n",
       "                                       random_state=42))])</pre></div></div></div><div class=\"sk-serial\"><div class=\"sk-item sk-dashed-wrapped\"><div class=\"sk-label-container\"><div class=\"sk-label sk-toggleable\"><input class=\"sk-toggleable__control sk-hidden--visually\" id=\"sk-estimator-id-50\" type=\"checkbox\" ><label for=\"sk-estimator-id-50\" class=\"sk-toggleable__label sk-toggleable__label-arrow\">pre: ColumnTransformer</label><div class=\"sk-toggleable__content\"><pre>ColumnTransformer(transformers=[(&#x27;num&#x27;, SimpleImputer(strategy=&#x27;median&#x27;),\n",
       "                                 [&#x27;areaSqm&#x27;, &#x27;latitude&#x27;, &#x27;longitude&#x27;,\n",
       "                                  &#x27;city_prior&#x27;, &#x27;pc4_prior&#x27;]),\n",
       "                                (&#x27;cat&#x27;,\n",
       "                                 Pipeline(steps=[(&#x27;impute&#x27;,\n",
       "                                                  SimpleImputer(strategy=&#x27;most_frequent&#x27;)),\n",
       "                                                 (&#x27;ohe&#x27;,\n",
       "                                                  OneHotEncoder(handle_unknown=&#x27;ignore&#x27;,\n",
       "                                                                sparse_output=False))]),\n",
       "                                 [&#x27;propertyType&#x27;, &#x27;furnish&#x27;, &#x27;internet&#x27;,\n",
       "                                  &#x27;kitchen&#x27;, &#x27;shower&#x27;, &#x27;toilet&#x27;, &#x27;living&#x27;,\n",
       "                                  &#x27;smokingInside&#x27;, &#x27;pets&#x27;])])</pre></div></div></div><div class=\"sk-parallel\"><div class=\"sk-parallel-item\"><div class=\"sk-item\"><div class=\"sk-label-container\"><div class=\"sk-label sk-toggleable\"><input class=\"sk-toggleable__control sk-hidden--visually\" id=\"sk-estimator-id-51\" type=\"checkbox\" ><label for=\"sk-estimator-id-51\" class=\"sk-toggleable__label sk-toggleable__label-arrow\">num</label><div class=\"sk-toggleable__content\"><pre>[&#x27;areaSqm&#x27;, &#x27;latitude&#x27;, &#x27;longitude&#x27;, &#x27;city_prior&#x27;, &#x27;pc4_prior&#x27;]</pre></div></div></div><div class=\"sk-serial\"><div class=\"sk-item\"><div class=\"sk-estimator sk-toggleable\"><input class=\"sk-toggleable__control sk-hidden--visually\" id=\"sk-estimator-id-52\" type=\"checkbox\" ><label for=\"sk-estimator-id-52\" class=\"sk-toggleable__label sk-toggleable__label-arrow\">SimpleImputer</label><div class=\"sk-toggleable__content\"><pre>SimpleImputer(strategy=&#x27;median&#x27;)</pre></div></div></div></div></div></div><div class=\"sk-parallel-item\"><div class=\"sk-item\"><div class=\"sk-label-container\"><div class=\"sk-label sk-toggleable\"><input class=\"sk-toggleable__control sk-hidden--visually\" id=\"sk-estimator-id-53\" type=\"checkbox\" ><label for=\"sk-estimator-id-53\" class=\"sk-toggleable__label sk-toggleable__label-arrow\">cat</label><div class=\"sk-toggleable__content\"><pre>[&#x27;propertyType&#x27;, &#x27;furnish&#x27;, &#x27;internet&#x27;, &#x27;kitchen&#x27;, &#x27;shower&#x27;, &#x27;toilet&#x27;, &#x27;living&#x27;, &#x27;smokingInside&#x27;, &#x27;pets&#x27;]</pre></div></div></div><div class=\"sk-serial\"><div class=\"sk-item\"><div class=\"sk-serial\"><div class=\"sk-item\"><div class=\"sk-estimator sk-toggleable\"><input class=\"sk-toggleable__control sk-hidden--visually\" id=\"sk-estimator-id-54\" type=\"checkbox\" ><label for=\"sk-estimator-id-54\" class=\"sk-toggleable__label sk-toggleable__label-arrow\">SimpleImputer</label><div class=\"sk-toggleable__content\"><pre>SimpleImputer(strategy=&#x27;most_frequent&#x27;)</pre></div></div></div><div class=\"sk-item\"><div class=\"sk-estimator sk-toggleable\"><input class=\"sk-toggleable__control sk-hidden--visually\" id=\"sk-estimator-id-55\" type=\"checkbox\" ><label for=\"sk-estimator-id-55\" class=\"sk-toggleable__label sk-toggleable__label-arrow\">OneHotEncoder</label><div class=\"sk-toggleable__content\"><pre>OneHotEncoder(handle_unknown=&#x27;ignore&#x27;, sparse_output=False)</pre></div></div></div></div></div></div></div></div></div></div><div class=\"sk-item\"><div class=\"sk-estimator sk-toggleable\"><input class=\"sk-toggleable__control sk-hidden--visually\" id=\"sk-estimator-id-56\" type=\"checkbox\" ><label for=\"sk-estimator-id-56\" class=\"sk-toggleable__label sk-toggleable__label-arrow\">RandomForestRegressor</label><div class=\"sk-toggleable__content\"><pre>RandomForestRegressor(max_features=&#x27;sqrt&#x27;, min_samples_leaf=2, n_estimators=600,\n",
       "                      n_jobs=-1, random_state=42)</pre></div></div></div></div></div></div></div>"
      ],
      "text/plain": [
       "Pipeline(steps=[('pre',\n",
       "                 ColumnTransformer(transformers=[('num',\n",
       "                                                  SimpleImputer(strategy='median'),\n",
       "                                                  ['areaSqm', 'latitude',\n",
       "                                                   'longitude', 'city_prior',\n",
       "                                                   'pc4_prior']),\n",
       "                                                 ('cat',\n",
       "                                                  Pipeline(steps=[('impute',\n",
       "                                                                   SimpleImputer(strategy='most_frequent')),\n",
       "                                                                  ('ohe',\n",
       "                                                                   OneHotEncoder(handle_unknown='ignore',\n",
       "                                                                                 sparse_output=False))]),\n",
       "                                                  ['propertyType', 'furnish',\n",
       "                                                   'internet', 'kitchen',\n",
       "                                                   'shower', 'toilet', 'living',\n",
       "                                                   'smokingInside',\n",
       "                                                   'pets'])])),\n",
       "                ('model',\n",
       "                 RandomForestRegressor(max_features='sqrt', min_samples_leaf=2,\n",
       "                                       n_estimators=600, n_jobs=-1,\n",
       "                                       random_state=42))])"
      ]
     },
     "execution_count": 79,
     "metadata": {},
     "output_type": "execute_result"
    }
   ],
   "source": [
    "rf = RandomForestRegressor(\n",
    "    n_estimators=600,        # more trees = steadier predictions\n",
    "    max_depth=None,         # let trees grow; can tune later\n",
    "    min_samples_leaf=2,     # small leaf to reduce overfit\n",
    "    max_features=\"sqrt\",    # classic setting for RF\n",
    "    n_jobs=-1,              # use all cores\n",
    "    random_state=42\n",
    ")\n",
    "\n",
    "pipe_rf = Pipeline(steps=[(\"pre\", pre), (\"model\", rf)])\n",
    "\n",
    "pipe_rf.fit(X_train, y_train)"
   ]
  },
  {
   "cell_type": "code",
   "execution_count": 80,
   "id": "4817b8ed",
   "metadata": {
    "hidden": true
   },
   "outputs": [],
   "source": [
    "pred_rf = pipe_rf.predict(X_test)"
   ]
  },
  {
   "cell_type": "code",
   "execution_count": 81,
   "id": "3326fad8",
   "metadata": {
    "hidden": true
   },
   "outputs": [
    {
     "name": "stdout",
     "output_type": "stream",
     "text": [
      "RF Test MAE : 177.38699152810085\n",
      "RF Test RMSE: 339.42906067840147\n",
      "RF Test R²  : 0.814056037123545\n"
     ]
    }
   ],
   "source": [
    "print(\"RF Test MAE :\", mean_absolute_error(y_test, pred_rf))\n",
    "print(\"RF Test RMSE:\", mean_squared_error(y_test, pred_rf, squared=False))\n",
    "print(\"RF Test R²  :\", r2_score(y_test, pred_rf))"
   ]
  },
  {
   "cell_type": "code",
   "execution_count": 82,
   "id": "cea26221",
   "metadata": {
    "hidden": true
   },
   "outputs": [
    {
     "name": "stdout",
     "output_type": "stream",
     "text": [
      "Train R² : 0.9171309795754811\n",
      "Test  R² : 0.814056037123545\n",
      "Train MAE: 124.54045282313274\n",
      "Test  MAE: 177.38699152810085\n"
     ]
    }
   ],
   "source": [
    "train_pred = pipe_rf.predict(X_train)\n",
    "test_pred  = pipe_rf.predict(X_test)\n",
    "\n",
    "\n",
    "print(\"Train R² :\", r2_score(y_train, train_pred))\n",
    "print(\"Test  R² :\", r2_score(y_test, test_pred))\n",
    "print(\"Train MAE:\", mean_absolute_error(y_train, train_pred))\n",
    "print(\"Test  MAE:\", mean_absolute_error(y_test, test_pred))"
   ]
  },
  {
   "cell_type": "markdown",
   "id": "3841322a",
   "metadata": {
    "heading_collapsed": true
   },
   "source": [
    "## Learning curve "
   ]
  },
  {
   "cell_type": "code",
   "execution_count": 83,
   "id": "7f7156e8",
   "metadata": {
    "hidden": true
   },
   "outputs": [
    {
     "data": {
      "image/png": "[encoded data removed]",
      "text/plain": [
       "<Figure size 600x400 with 1 Axes>"
      ]
     },
     "metadata": {},
     "output_type": "display_data"
    }
   ],
   "source": [
    "import numpy as np\n",
    "import matplotlib.pyplot as plt\n",
    "from sklearn.model_selection import learning_curve\n",
    "\n",
    "train_sizes, train_scores, test_scores = learning_curve(\n",
    "    pipe_rf,\n",
    "    X_train, y_train,\n",
    "    cv=3,\n",
    "    scoring=\"r2\",\n",
    "    train_sizes=np.linspace(0.1, 1.0, 6),\n",
    "    n_jobs=-1\n",
    ")\n",
    "\n",
    "train_mean = train_scores.mean(axis=1)\n",
    "test_mean  = test_scores.mean(axis=1)\n",
    "\n",
    "plt.figure(figsize=(6,4))\n",
    "plt.plot(train_sizes, train_mean, 'o-', label='Train R²')\n",
    "plt.plot(train_sizes, test_mean, 'o-', label='Test R²')\n",
    "plt.xlabel(\"Training Set Size\")\n",
    "plt.ylabel(\"R² score\")\n",
    "plt.title(\"Learning Curve - Random Forest\")\n",
    "plt.legend()\n",
    "plt.grid(True)\n",
    "plt.show()\n"
   ]
  },
  {
   "cell_type": "markdown",
   "id": "1041edf9",
   "metadata": {},
   "source": [
    "## XGBosst model"
   ]
  },
  {
   "cell_type": "code",
   "execution_count": 25,
   "id": "ecd7cb8b",
   "metadata": {},
   "outputs": [],
   "source": [
    "from xgboost import XGBRegressor"
   ]
  },
  {
   "cell_type": "code",
   "execution_count": 30,
   "id": "dce8026e",
   "metadata": {},
   "outputs": [],
   "source": [
    "xgb = XGBRegressor(\n",
    "    n_estimators=800,\n",
    "    learning_rate=0.05,\n",
    "    max_depth=8,\n",
    "    subsample=0.8,\n",
    "    colsample_bytree=0.8,\n",
    "    reg_lambda=1.0,\n",
    "    random_state=42,\n",
    "    n_jobs=-1\n",
    ")"
   ]
  },
  {
   "cell_type": "code",
   "execution_count": 31,
   "id": "fe19b32a",
   "metadata": {},
   "outputs": [
    {
     "data": {
      "text/html": [
       "<style>#sk-container-id-1 {color: black;}#sk-container-id-1 pre{padding: 0;}#sk-container-id-1 div.sk-toggleable {background-color: white;}#sk-container-id-1 label.sk-toggleable__label {cursor: pointer;display: block;width: 100%;margin-bottom: 0;padding: 0.3em;box-sizing: border-box;text-align: center;}#sk-container-id-1 label.sk-toggleable__label-arrow:before {content: \"▸\";float: left;margin-right: 0.25em;color: #696969;}#sk-container-id-1 label.sk-toggleable__label-arrow:hover:before {color: black;}#sk-container-id-1 div.sk-estimator:hover label.sk-toggleable__label-arrow:before {color: black;}#sk-container-id-1 div.sk-toggleable__content {max-height: 0;max-width: 0;overflow: hidden;text-align: left;background-color: #f0f8ff;}#sk-container-id-1 div.sk-toggleable__content pre {margin: 0.2em;color: black;border-radius: 0.25em;background-color: #f0f8ff;}#sk-container-id-1 input.sk-toggleable__control:checked~div.sk-toggleable__content {max-height: 200px;max-width: 100%;overflow: auto;}#sk-container-id-1 input.sk-toggleable__control:checked~label.sk-toggleable__label-arrow:before {content: \"▾\";}#sk-container-id-1 div.sk-estimator input.sk-toggleable__control:checked~label.sk-toggleable__label {background-color: #d4ebff;}#sk-container-id-1 div.sk-label input.sk-toggleable__control:checked~label.sk-toggleable__label {background-color: #d4ebff;}#sk-container-id-1 input.sk-hidden--visually {border: 0;clip: rect(1px 1px 1px 1px);clip: rect(1px, 1px, 1px, 1px);height: 1px;margin: -1px;overflow: hidden;padding: 0;position: absolute;width: 1px;}#sk-container-id-1 div.sk-estimator {font-family: monospace;background-color: #f0f8ff;border: 1px dotted black;border-radius: 0.25em;box-sizing: border-box;margin-bottom: 0.5em;}#sk-container-id-1 div.sk-estimator:hover {background-color: #d4ebff;}#sk-container-id-1 div.sk-parallel-item::after {content: \"\";width: 100%;border-bottom: 1px solid gray;flex-grow: 1;}#sk-container-id-1 div.sk-label:hover label.sk-toggleable__label {background-color: #d4ebff;}#sk-container-id-1 div.sk-serial::before {content: \"\";position: absolute;border-left: 1px solid gray;box-sizing: border-box;top: 0;bottom: 0;left: 50%;z-index: 0;}#sk-container-id-1 div.sk-serial {display: flex;flex-direction: column;align-items: center;background-color: white;padding-right: 0.2em;padding-left: 0.2em;position: relative;}#sk-container-id-1 div.sk-item {position: relative;z-index: 1;}#sk-container-id-1 div.sk-parallel {display: flex;align-items: stretch;justify-content: center;background-color: white;position: relative;}#sk-container-id-1 div.sk-item::before, #sk-container-id-1 div.sk-parallel-item::before {content: \"\";position: absolute;border-left: 1px solid gray;box-sizing: border-box;top: 0;bottom: 0;left: 50%;z-index: -1;}#sk-container-id-1 div.sk-parallel-item {display: flex;flex-direction: column;z-index: 1;position: relative;background-color: white;}#sk-container-id-1 div.sk-parallel-item:first-child::after {align-self: flex-end;width: 50%;}#sk-container-id-1 div.sk-parallel-item:last-child::after {align-self: flex-start;width: 50%;}#sk-container-id-1 div.sk-parallel-item:only-child::after {width: 0;}#sk-container-id-1 div.sk-dashed-wrapped {border: 1px dashed gray;margin: 0 0.4em 0.5em 0.4em;box-sizing: border-box;padding-bottom: 0.4em;background-color: white;}#sk-container-id-1 div.sk-label label {font-family: monospace;font-weight: bold;display: inline-block;line-height: 1.2em;}#sk-container-id-1 div.sk-label-container {text-align: center;}#sk-container-id-1 div.sk-container {/* jupyter's `normalize.less` sets `[hidden] { display: none; }` but bootstrap.min.css set `[hidden] { display: none !important; }` so we also need the `!important` here to be able to override the default hidden behavior on the sphinx rendered scikit-learn.org. See: https://github.com/scikit-learn/scikit-learn/issues/21755 */display: inline-block !important;position: relative;}#sk-container-id-1 div.sk-text-repr-fallback {display: none;}</style><div id=\"sk-container-id-1\" class=\"sk-top-container\"><div class=\"sk-text-repr-fallback\"><pre>Pipeline(steps=[(&#x27;pre&#x27;,\n",
       "                 ColumnTransformer(transformers=[(&#x27;num&#x27;,\n",
       "                                                  SimpleImputer(strategy=&#x27;median&#x27;),\n",
       "                                                  [&#x27;areaSqm&#x27;, &#x27;latitude&#x27;,\n",
       "                                                   &#x27;longitude&#x27;, &#x27;city_prior&#x27;,\n",
       "                                                   &#x27;pc4_prior&#x27;]),\n",
       "                                                 (&#x27;cat&#x27;,\n",
       "                                                  Pipeline(steps=[(&#x27;impute&#x27;,\n",
       "                                                                   SimpleImputer(strategy=&#x27;most_frequent&#x27;)),\n",
       "                                                                  (&#x27;ohe&#x27;,\n",
       "                                                                   OneHotEncoder(handle_unknown=&#x27;ignore&#x27;,\n",
       "                                                                                 sparse_output=False))]),\n",
       "                                                  [&#x27;propertyType&#x27;, &#x27;furnish&#x27;,\n",
       "                                                   &#x27;internet&#x27;, &#x27;kitchen&#x27;,\n",
       "                                                   &#x27;sho...\n",
       "                              gamma=0, gpu_id=-1, grow_policy=&#x27;depthwise&#x27;,\n",
       "                              importance_type=None, interaction_constraints=&#x27;&#x27;,\n",
       "                              learning_rate=0.05, max_bin=256,\n",
       "                              max_cat_to_onehot=4, max_delta_step=0,\n",
       "                              max_depth=8, max_leaves=0, min_child_weight=1,\n",
       "                              missing=nan, monotone_constraints=&#x27;()&#x27;,\n",
       "                              n_estimators=800, n_jobs=-1, num_parallel_tree=1,\n",
       "                              predictor=&#x27;auto&#x27;, random_state=42, reg_alpha=0,\n",
       "                              reg_lambda=1.0, ...))])</pre><b>In a Jupyter environment, please rerun this cell to show the HTML representation or trust the notebook. <br />On GitHub, the HTML representation is unable to render, please try loading this page with nbviewer.org.</b></div><div class=\"sk-container\" hidden><div class=\"sk-item sk-dashed-wrapped\"><div class=\"sk-label-container\"><div class=\"sk-label sk-toggleable\"><input class=\"sk-toggleable__control sk-hidden--visually\" id=\"sk-estimator-id-1\" type=\"checkbox\" ><label for=\"sk-estimator-id-1\" class=\"sk-toggleable__label sk-toggleable__label-arrow\">Pipeline</label><div class=\"sk-toggleable__content\"><pre>Pipeline(steps=[(&#x27;pre&#x27;,\n",
       "                 ColumnTransformer(transformers=[(&#x27;num&#x27;,\n",
       "                                                  SimpleImputer(strategy=&#x27;median&#x27;),\n",
       "                                                  [&#x27;areaSqm&#x27;, &#x27;latitude&#x27;,\n",
       "                                                   &#x27;longitude&#x27;, &#x27;city_prior&#x27;,\n",
       "                                                   &#x27;pc4_prior&#x27;]),\n",
       "                                                 (&#x27;cat&#x27;,\n",
       "                                                  Pipeline(steps=[(&#x27;impute&#x27;,\n",
       "                                                                   SimpleImputer(strategy=&#x27;most_frequent&#x27;)),\n",
       "                                                                  (&#x27;ohe&#x27;,\n",
       "                                                                   OneHotEncoder(handle_unknown=&#x27;ignore&#x27;,\n",
       "                                                                                 sparse_output=False))]),\n",
       "                                                  [&#x27;propertyType&#x27;, &#x27;furnish&#x27;,\n",
       "                                                   &#x27;internet&#x27;, &#x27;kitchen&#x27;,\n",
       "                                                   &#x27;sho...\n",
       "                              gamma=0, gpu_id=-1, grow_policy=&#x27;depthwise&#x27;,\n",
       "                              importance_type=None, interaction_constraints=&#x27;&#x27;,\n",
       "                              learning_rate=0.05, max_bin=256,\n",
       "                              max_cat_to_onehot=4, max_delta_step=0,\n",
       "                              max_depth=8, max_leaves=0, min_child_weight=1,\n",
       "                              missing=nan, monotone_constraints=&#x27;()&#x27;,\n",
       "                              n_estimators=800, n_jobs=-1, num_parallel_tree=1,\n",
       "                              predictor=&#x27;auto&#x27;, random_state=42, reg_alpha=0,\n",
       "                              reg_lambda=1.0, ...))])</pre></div></div></div><div class=\"sk-serial\"><div class=\"sk-item sk-dashed-wrapped\"><div class=\"sk-label-container\"><div class=\"sk-label sk-toggleable\"><input class=\"sk-toggleable__control sk-hidden--visually\" id=\"sk-estimator-id-2\" type=\"checkbox\" ><label for=\"sk-estimator-id-2\" class=\"sk-toggleable__label sk-toggleable__label-arrow\">pre: ColumnTransformer</label><div class=\"sk-toggleable__content\"><pre>ColumnTransformer(transformers=[(&#x27;num&#x27;, SimpleImputer(strategy=&#x27;median&#x27;),\n",
       "                                 [&#x27;areaSqm&#x27;, &#x27;latitude&#x27;, &#x27;longitude&#x27;,\n",
       "                                  &#x27;city_prior&#x27;, &#x27;pc4_prior&#x27;]),\n",
       "                                (&#x27;cat&#x27;,\n",
       "                                 Pipeline(steps=[(&#x27;impute&#x27;,\n",
       "                                                  SimpleImputer(strategy=&#x27;most_frequent&#x27;)),\n",
       "                                                 (&#x27;ohe&#x27;,\n",
       "                                                  OneHotEncoder(handle_unknown=&#x27;ignore&#x27;,\n",
       "                                                                sparse_output=False))]),\n",
       "                                 [&#x27;propertyType&#x27;, &#x27;furnish&#x27;, &#x27;internet&#x27;,\n",
       "                                  &#x27;kitchen&#x27;, &#x27;shower&#x27;, &#x27;toilet&#x27;, &#x27;living&#x27;,\n",
       "                                  &#x27;smokingInside&#x27;, &#x27;pets&#x27;])])</pre></div></div></div><div class=\"sk-parallel\"><div class=\"sk-parallel-item\"><div class=\"sk-item\"><div class=\"sk-label-container\"><div class=\"sk-label sk-toggleable\"><input class=\"sk-toggleable__control sk-hidden--visually\" id=\"sk-estimator-id-3\" type=\"checkbox\" ><label for=\"sk-estimator-id-3\" class=\"sk-toggleable__label sk-toggleable__label-arrow\">num</label><div class=\"sk-toggleable__content\"><pre>[&#x27;areaSqm&#x27;, &#x27;latitude&#x27;, &#x27;longitude&#x27;, &#x27;city_prior&#x27;, &#x27;pc4_prior&#x27;]</pre></div></div></div><div class=\"sk-serial\"><div class=\"sk-item\"><div class=\"sk-estimator sk-toggleable\"><input class=\"sk-toggleable__control sk-hidden--visually\" id=\"sk-estimator-id-4\" type=\"checkbox\" ><label for=\"sk-estimator-id-4\" class=\"sk-toggleable__label sk-toggleable__label-arrow\">SimpleImputer</label><div class=\"sk-toggleable__content\"><pre>SimpleImputer(strategy=&#x27;median&#x27;)</pre></div></div></div></div></div></div><div class=\"sk-parallel-item\"><div class=\"sk-item\"><div class=\"sk-label-container\"><div class=\"sk-label sk-toggleable\"><input class=\"sk-toggleable__control sk-hidden--visually\" id=\"sk-estimator-id-5\" type=\"checkbox\" ><label for=\"sk-estimator-id-5\" class=\"sk-toggleable__label sk-toggleable__label-arrow\">cat</label><div class=\"sk-toggleable__content\"><pre>[&#x27;propertyType&#x27;, &#x27;furnish&#x27;, &#x27;internet&#x27;, &#x27;kitchen&#x27;, &#x27;shower&#x27;, &#x27;toilet&#x27;, &#x27;living&#x27;, &#x27;smokingInside&#x27;, &#x27;pets&#x27;]</pre></div></div></div><div class=\"sk-serial\"><div class=\"sk-item\"><div class=\"sk-serial\"><div class=\"sk-item\"><div class=\"sk-estimator sk-toggleable\"><input class=\"sk-toggleable__control sk-hidden--visually\" id=\"sk-estimator-id-6\" type=\"checkbox\" ><label for=\"sk-estimator-id-6\" class=\"sk-toggleable__label sk-toggleable__label-arrow\">SimpleImputer</label><div class=\"sk-toggleable__content\"><pre>SimpleImputer(strategy=&#x27;most_frequent&#x27;)</pre></div></div></div><div class=\"sk-item\"><div class=\"sk-estimator sk-toggleable\"><input class=\"sk-toggleable__control sk-hidden--visually\" id=\"sk-estimator-id-7\" type=\"checkbox\" ><label for=\"sk-estimator-id-7\" class=\"sk-toggleable__label sk-toggleable__label-arrow\">OneHotEncoder</label><div class=\"sk-toggleable__content\"><pre>OneHotEncoder(handle_unknown=&#x27;ignore&#x27;, sparse_output=False)</pre></div></div></div></div></div></div></div></div></div></div><div class=\"sk-item\"><div class=\"sk-estimator sk-toggleable\"><input class=\"sk-toggleable__control sk-hidden--visually\" id=\"sk-estimator-id-8\" type=\"checkbox\" ><label for=\"sk-estimator-id-8\" class=\"sk-toggleable__label sk-toggleable__label-arrow\">XGBRegressor</label><div class=\"sk-toggleable__content\"><pre>XGBRegressor(base_score=0.5, booster=&#x27;gbtree&#x27;, callbacks=None,\n",
       "             colsample_bylevel=1, colsample_bynode=1, colsample_bytree=0.8,\n",
       "             early_stopping_rounds=None, enable_categorical=False,\n",
       "             eval_metric=None, gamma=0, gpu_id=-1, grow_policy=&#x27;depthwise&#x27;,\n",
       "             importance_type=None, interaction_constraints=&#x27;&#x27;,\n",
       "             learning_rate=0.05, max_bin=256, max_cat_to_onehot=4,\n",
       "             max_delta_step=0, max_depth=8, max_leaves=0, min_child_weight=1,\n",
       "             missing=nan, monotone_constraints=&#x27;()&#x27;, n_estimators=800,\n",
       "             n_jobs=-1, num_parallel_tree=1, predictor=&#x27;auto&#x27;, random_state=42,\n",
       "             reg_alpha=0, reg_lambda=1.0, ...)</pre></div></div></div></div></div></div></div>"
      ],
      "text/plain": [
       "Pipeline(steps=[('pre',\n",
       "                 ColumnTransformer(transformers=[('num',\n",
       "                                                  SimpleImputer(strategy='median'),\n",
       "                                                  ['areaSqm', 'latitude',\n",
       "                                                   'longitude', 'city_prior',\n",
       "                                                   'pc4_prior']),\n",
       "                                                 ('cat',\n",
       "                                                  Pipeline(steps=[('impute',\n",
       "                                                                   SimpleImputer(strategy='most_frequent')),\n",
       "                                                                  ('ohe',\n",
       "                                                                   OneHotEncoder(handle_unknown='ignore',\n",
       "                                                                                 sparse_output=False))]),\n",
       "                                                  ['propertyType', 'furnish',\n",
       "                                                   'internet', 'kitchen',\n",
       "                                                   'sho...\n",
       "                              gamma=0, gpu_id=-1, grow_policy='depthwise',\n",
       "                              importance_type=None, interaction_constraints='',\n",
       "                              learning_rate=0.05, max_bin=256,\n",
       "                              max_cat_to_onehot=4, max_delta_step=0,\n",
       "                              max_depth=8, max_leaves=0, min_child_weight=1,\n",
       "                              missing=nan, monotone_constraints='()',\n",
       "                              n_estimators=800, n_jobs=-1, num_parallel_tree=1,\n",
       "                              predictor='auto', random_state=42, reg_alpha=0,\n",
       "                              reg_lambda=1.0, ...))])"
      ]
     },
     "execution_count": 31,
     "metadata": {},
     "output_type": "execute_result"
    }
   ],
   "source": [
    "pipe_xgb = Pipeline(steps=[(\"pre\", pre), (\"model\", xgb)])\n",
    "\n",
    "pipe_xgb.fit(X_train, y_train)"
   ]
  },
  {
   "cell_type": "code",
   "execution_count": 32,
   "id": "c8b231b9",
   "metadata": {},
   "outputs": [
    {
     "name": "stdout",
     "output_type": "stream",
     "text": [
      "XGB Train R² : 0.9625960321853291\n",
      "XGB Test  R² : 0.8449105369809006\n",
      "XGB Train MAE: 88.23137827969121\n",
      "XGB Test  MAE: 141.78394527332938\n"
     ]
    }
   ],
   "source": [
    "train_pred_xgb = pipe_xgb.predict(X_train)\n",
    "test_pred_xgb  = pipe_xgb.predict(X_test)\n",
    "\n",
    "\n",
    "print(\"XGB Train R² :\", r2_score(y_train, train_pred_xgb))\n",
    "print(\"XGB Test  R² :\", r2_score(y_test, test_pred_xgb))\n",
    "print(\"XGB Train MAE:\", mean_absolute_error(y_train, train_pred_xgb))\n",
    "print(\"XGB Test  MAE:\", mean_absolute_error(y_test, test_pred_xgb))"
   ]
  },
  {
   "cell_type": "markdown",
   "id": "9dce5340",
   "metadata": {},
   "source": [
    "# Test and do a prediction "
   ]
  },
  {
   "cell_type": "code",
   "execution_count": 33,
   "id": "25e48c16",
   "metadata": {},
   "outputs": [],
   "source": [
    "\n",
    "# example input\n",
    "sample = {\n",
    "    \"areaSqm\": 80,\n",
    "    \"latitude\": 52.0907,         # Utrecht\n",
    "    \"longitude\": 5.1214,\n",
    "    \"city\": \"utrecht\",\n",
    "    \"furnish\": \"furnished\",\n",
    "    \"propertyType\": \"apartment\",\n",
    "    \"internet\": \"yes\",\n",
    "    \"kitchen\": \"own\",\n",
    "    \"living\": \"own\",\n",
    "    \"pets\": \"no\",\n",
    "    \"shower\": \"own\",\n",
    "    \"smokingInside\": \"no\",\n",
    "    \"toilet\": \"own\",\n",
    "    \"pc4\": \"3511\"                # Utrecht center\n",
    "}\n",
    "sample_df = pd.DataFrame([sample])\n"
   ]
  },
  {
   "cell_type": "code",
   "execution_count": 34,
   "id": "7002b168",
   "metadata": {},
   "outputs": [
    {
     "data": {
      "text/html": [
       "<div>\n",
       "<style scoped>\n",
       "    .dataframe tbody tr th:only-of-type {\n",
       "        vertical-align: middle;\n",
       "    }\n",
       "\n",
       "    .dataframe tbody tr th {\n",
       "        vertical-align: top;\n",
       "    }\n",
       "\n",
       "    .dataframe thead th {\n",
       "        text-align: right;\n",
       "    }\n",
       "</style>\n",
       "<table border=\"1\" class=\"dataframe\">\n",
       "  <thead>\n",
       "    <tr style=\"text-align: right;\">\n",
       "      <th></th>\n",
       "      <th>areaSqm</th>\n",
       "      <th>latitude</th>\n",
       "      <th>longitude</th>\n",
       "      <th>city</th>\n",
       "      <th>furnish</th>\n",
       "      <th>propertyType</th>\n",
       "      <th>internet</th>\n",
       "      <th>kitchen</th>\n",
       "      <th>living</th>\n",
       "      <th>pets</th>\n",
       "      <th>shower</th>\n",
       "      <th>smokingInside</th>\n",
       "      <th>toilet</th>\n",
       "      <th>pc4</th>\n",
       "    </tr>\n",
       "  </thead>\n",
       "  <tbody>\n",
       "    <tr>\n",
       "      <th>0</th>\n",
       "      <td>80</td>\n",
       "      <td>52.0907</td>\n",
       "      <td>5.1214</td>\n",
       "      <td>utrecht</td>\n",
       "      <td>furnished</td>\n",
       "      <td>apartment</td>\n",
       "      <td>yes</td>\n",
       "      <td>own</td>\n",
       "      <td>own</td>\n",
       "      <td>no</td>\n",
       "      <td>own</td>\n",
       "      <td>no</td>\n",
       "      <td>own</td>\n",
       "      <td>3511</td>\n",
       "    </tr>\n",
       "  </tbody>\n",
       "</table>\n",
       "</div>"
      ],
      "text/plain": [
       "   areaSqm  latitude  longitude     city    furnish propertyType internet  \\\n",
       "0       80   52.0907     5.1214  utrecht  furnished    apartment      yes   \n",
       "\n",
       "  kitchen living pets shower smokingInside toilet   pc4  \n",
       "0     own    own   no    own            no    own  3511  "
      ]
     },
     "execution_count": 34,
     "metadata": {},
     "output_type": "execute_result"
    }
   ],
   "source": [
    "sample_df"
   ]
  },
  {
   "cell_type": "code",
   "execution_count": 35,
   "id": "653bbb3e",
   "metadata": {},
   "outputs": [],
   "source": [
    "# compute priors for this new sample\n",
    "sample_df[\"city_prior\"] = sample_df[\"city\"].map(city_stats[\"city_prior\"]).fillna(gmean)\n",
    "sample_df[\"pc4_prior\"]  = sample_df[\"pc4\"].map(pc4_stats[\"pc4_prior\"]).fillna(sample_df[\"city_prior\"]).fillna(gmean)\n"
   ]
  },
  {
   "cell_type": "code",
   "execution_count": 36,
   "id": "6de56499",
   "metadata": {},
   "outputs": [
    {
     "data": {
      "text/html": [
       "<div>\n",
       "<style scoped>\n",
       "    .dataframe tbody tr th:only-of-type {\n",
       "        vertical-align: middle;\n",
       "    }\n",
       "\n",
       "    .dataframe tbody tr th {\n",
       "        vertical-align: top;\n",
       "    }\n",
       "\n",
       "    .dataframe thead th {\n",
       "        text-align: right;\n",
       "    }\n",
       "</style>\n",
       "<table border=\"1\" class=\"dataframe\">\n",
       "  <thead>\n",
       "    <tr style=\"text-align: right;\">\n",
       "      <th></th>\n",
       "      <th>areaSqm</th>\n",
       "      <th>latitude</th>\n",
       "      <th>longitude</th>\n",
       "      <th>city</th>\n",
       "      <th>furnish</th>\n",
       "      <th>propertyType</th>\n",
       "      <th>internet</th>\n",
       "      <th>kitchen</th>\n",
       "      <th>living</th>\n",
       "      <th>pets</th>\n",
       "      <th>shower</th>\n",
       "      <th>smokingInside</th>\n",
       "      <th>toilet</th>\n",
       "      <th>pc4</th>\n",
       "      <th>city_prior</th>\n",
       "      <th>pc4_prior</th>\n",
       "    </tr>\n",
       "  </thead>\n",
       "  <tbody>\n",
       "    <tr>\n",
       "      <th>0</th>\n",
       "      <td>80</td>\n",
       "      <td>52.0907</td>\n",
       "      <td>5.1214</td>\n",
       "      <td>utrecht</td>\n",
       "      <td>furnished</td>\n",
       "      <td>apartment</td>\n",
       "      <td>yes</td>\n",
       "      <td>own</td>\n",
       "      <td>own</td>\n",
       "      <td>no</td>\n",
       "      <td>own</td>\n",
       "      <td>no</td>\n",
       "      <td>own</td>\n",
       "      <td>3511</td>\n",
       "      <td>1138.441132</td>\n",
       "      <td>1313.655048</td>\n",
       "    </tr>\n",
       "  </tbody>\n",
       "</table>\n",
       "</div>"
      ],
      "text/plain": [
       "   areaSqm  latitude  longitude     city    furnish propertyType internet  \\\n",
       "0       80   52.0907     5.1214  utrecht  furnished    apartment      yes   \n",
       "\n",
       "  kitchen living pets shower smokingInside toilet   pc4   city_prior  \\\n",
       "0     own    own   no    own            no    own  3511  1138.441132   \n",
       "\n",
       "     pc4_prior  \n",
       "0  1313.655048  "
      ]
     },
     "execution_count": 36,
     "metadata": {},
     "output_type": "execute_result"
    }
   ],
   "source": [
    "sample_df"
   ]
  },
  {
   "cell_type": "code",
   "execution_count": 37,
   "id": "4400b54c",
   "metadata": {},
   "outputs": [],
   "source": [
    "X_new = sample_df[num_cols + cat_cols]"
   ]
  },
  {
   "cell_type": "code",
   "execution_count": 38,
   "id": "71d4bc78",
   "metadata": {},
   "outputs": [
    {
     "data": {
      "text/html": [
       "<div>\n",
       "<style scoped>\n",
       "    .dataframe tbody tr th:only-of-type {\n",
       "        vertical-align: middle;\n",
       "    }\n",
       "\n",
       "    .dataframe tbody tr th {\n",
       "        vertical-align: top;\n",
       "    }\n",
       "\n",
       "    .dataframe thead th {\n",
       "        text-align: right;\n",
       "    }\n",
       "</style>\n",
       "<table border=\"1\" class=\"dataframe\">\n",
       "  <thead>\n",
       "    <tr style=\"text-align: right;\">\n",
       "      <th></th>\n",
       "      <th>areaSqm</th>\n",
       "      <th>latitude</th>\n",
       "      <th>longitude</th>\n",
       "      <th>city_prior</th>\n",
       "      <th>pc4_prior</th>\n",
       "      <th>propertyType</th>\n",
       "      <th>furnish</th>\n",
       "      <th>internet</th>\n",
       "      <th>kitchen</th>\n",
       "      <th>shower</th>\n",
       "      <th>toilet</th>\n",
       "      <th>living</th>\n",
       "      <th>smokingInside</th>\n",
       "      <th>pets</th>\n",
       "    </tr>\n",
       "  </thead>\n",
       "  <tbody>\n",
       "    <tr>\n",
       "      <th>0</th>\n",
       "      <td>80</td>\n",
       "      <td>52.0907</td>\n",
       "      <td>5.1214</td>\n",
       "      <td>1138.441132</td>\n",
       "      <td>1313.655048</td>\n",
       "      <td>apartment</td>\n",
       "      <td>furnished</td>\n",
       "      <td>yes</td>\n",
       "      <td>own</td>\n",
       "      <td>own</td>\n",
       "      <td>own</td>\n",
       "      <td>own</td>\n",
       "      <td>no</td>\n",
       "      <td>no</td>\n",
       "    </tr>\n",
       "  </tbody>\n",
       "</table>\n",
       "</div>"
      ],
      "text/plain": [
       "   areaSqm  latitude  longitude   city_prior    pc4_prior propertyType  \\\n",
       "0       80   52.0907     5.1214  1138.441132  1313.655048    apartment   \n",
       "\n",
       "     furnish internet kitchen shower toilet living smokingInside pets  \n",
       "0  furnished      yes     own    own    own    own            no   no  "
      ]
     },
     "execution_count": 38,
     "metadata": {},
     "output_type": "execute_result"
    }
   ],
   "source": [
    "X_new"
   ]
  },
  {
   "cell_type": "code",
   "execution_count": 39,
   "id": "b83988a7",
   "metadata": {},
   "outputs": [
    {
     "name": "stdout",
     "output_type": "stream",
     "text": [
      "🏠  Predicted monthly rent: €2,252\n"
     ]
    }
   ],
   "source": [
    "predicted_rent = pipe_xgb.predict(X_new)[0]\n",
    "print(f\"🏠  Predicted monthly rent: €{predicted_rent:,.0f}\")"
   ]
  },
  {
   "cell_type": "code",
   "execution_count": null,
   "id": "4699443c",
   "metadata": {},
   "outputs": [],
   "source": [
    "import joblib, pandas as pd\n",
    "\n",
    "pipe = joblib.load(\"rent_pipeline_xgb.pkl\")\n",
    "priors = joblib.load(\"priors.pkl\")\n",
    "gmean = float(priors[\"gmean\"])\n",
    "city_prior_map = priors[\"city_stats\"]\n",
    "pc4_prior_map  = priors[\"pc4_stats\"]\n",
    "\n",
    "num_cols = ['areaSqm','latitude','longitude','city_prior','pc4_prior']\n",
    "cat_cols = ['propertyType','furnish','internet','kitchen','shower','toilet','living','smokingInside','pets']\n",
    "\n",
    "def predict_rent(areaSqm, lat, lon, city, pc4, furnish, propertyType,\n",
    "                 internet, kitchen, shower, toilet, living, smokingInside, pets):\n",
    "    row = pd.DataFrame([{\n",
    "        \"areaSqm\": areaSqm, \"latitude\": lat, \"longitude\": lon,\n",
    "        \"city\": city, \"pc4\": pc4, \"furnish\": furnish, \"propertyType\": propertyType,\n",
    "        \"internet\": internet, \"kitchen\": kitchen, \"shower\": shower, \"toilet\": toilet,\n",
    "        \"living\": living, \"smokingInside\": smokingInside, \"pets\": pets\n",
    "    }])\n",
    "    row[\"city_prior\"] = row[\"city\"].map(city_prior_map).fillna(gmean)\n",
    "    row[\"pc4_prior\"]  = row[\"pc4\"].map(pc4_prior_map).fillna(row[\"city_prior\"]).fillna(gmean)\n",
    "    X_new = row[num_cols + cat_cols].astype({c: \"object\" for c in cat_cols})\n",
    "    return float(pipe.predict(X_new)[0])\n"
   ]
  },
  {
   "cell_type": "markdown",
   "id": "77cd265e",
   "metadata": {},
   "source": [
    "# Model on procution "
   ]
  },
  {
   "cell_type": "markdown",
   "id": "6f14a281",
   "metadata": {},
   "source": [
    "## Step 1 — Save the model + artifacts"
   ]
  },
  {
   "cell_type": "code",
   "execution_count": 40,
   "id": "b5845bf3",
   "metadata": {},
   "outputs": [
    {
     "data": {
      "text/plain": [
       "['artifacts/rent_pipeline_xgb.pkl']"
      ]
     },
     "execution_count": 40,
     "metadata": {},
     "output_type": "execute_result"
    }
   ],
   "source": [
    "import os, json, joblib\n",
    "\n",
    "os.makedirs(\"artifacts\", exist_ok=True)\n",
    "\n",
    "# 1) Save trained pipeline\n",
    "joblib.dump(pipe_xgb, \"artifacts/rent_pipeline_xgb.pkl\")"
   ]
  },
  {
   "cell_type": "code",
   "execution_count": 41,
   "id": "a853af93",
   "metadata": {},
   "outputs": [
    {
     "data": {
      "text/plain": [
       "['artifacts/priors.pkl']"
      ]
     },
     "execution_count": 41,
     "metadata": {},
     "output_type": "execute_result"
    }
   ],
   "source": [
    "# 2) Save priors (convert Series to dict)\n",
    "priors_payload = {\n",
    "    \"gmean\": float(gmean),\n",
    "    \"city_prior\": city_stats[\"city_prior\"].to_dict(),\n",
    "    \"pc4_prior\": pc4_stats[\"pc4_prior\"].to_dict()\n",
    "}\n",
    "joblib.dump(priors_payload, \"artifacts/priors.pkl\")\n"
   ]
  },
  {
   "cell_type": "code",
   "execution_count": 42,
   "id": "2c480f98",
   "metadata": {},
   "outputs": [],
   "source": [
    "# 3) Save feature lists\n",
    "feat = {\n",
    "    \"num_cols\": ['areaSqm','latitude','longitude','city_prior','pc4_prior'],\n",
    "    \"cat_cols\": ['propertyType','furnish','internet','kitchen','shower','toilet','living','smokingInside','pets']\n",
    "}\n",
    "with open(\"artifacts/features.json\",\"w\") as f:\n",
    "    json.dump(feat, f)\n",
    "\n",
    "# 4) Save uplift factor you chose\n",
    "with open(\"artifacts/model_meta.json\",\"w\") as f:\n",
    "    json.dump({\"uplift_factor\": 1.30}, f)"
   ]
  },
  {
   "cell_type": "markdown",
   "id": "d7f311d7",
   "metadata": {},
   "source": [
    "## Step 2 — Reusable prediction helper"
   ]
  },
  {
   "cell_type": "code",
   "execution_count": 43,
   "id": "eb10a2cc",
   "metadata": {},
   "outputs": [],
   "source": [
    "import json, joblib\n",
    "import pandas as pd\n",
    "import numpy as np\n",
    "from pathlib import Path\n",
    "\n",
    "# --- load once (module/global scope) ---\n",
    "ART = Path(\"artifacts\")\n",
    "pipe      = joblib.load(ART / \"rent_pipeline_xgb.pkl\")\n",
    "priors    = joblib.load(ART / \"priors.pkl\")             # contains gmean, city_prior, pc4_prior\n",
    "feat      = json.load(open(ART / \"features.json\"))\n",
    "UPLIFT    = json.load(open(ART / \"model_meta.json\"))[\"uplift_factor\"]\n",
    "\n",
    "gmean = float(priors[\"gmean\"])\n",
    "city_prior_map = priors[\"city_prior\"]\n",
    "pc4_prior_map  = priors[\"pc4_prior\"]\n",
    "\n",
    "num_cols = feat[\"num_cols\"]\n",
    "cat_cols = feat[\"cat_cols\"]\n",
    "\n",
    "def predict_rent(input_data: dict) -> float:\n",
    "    \"\"\"\n",
    "    input_data keys expected:\n",
    "      areaSqm, latitude, longitude, city, pc4,\n",
    "      propertyType, furnish, internet, kitchen, shower, toilet, living, smokingInside, pets\n",
    "    \"\"\"\n",
    "    # 1) one-row frame\n",
    "    row = pd.DataFrame([input_data])\n",
    "\n",
    "    # 2) normalize text\n",
    "    for c in [\"city\",\"propertyType\",\"furnish\",\"internet\",\"kitchen\",\"shower\",\"toilet\",\"living\",\"smokingInside\",\"pets\"]:\n",
    "        if c in row.columns:\n",
    "            row[c] = row[c].astype(str).str.strip().str.lower()\n",
    "\n",
    "    # 3) ensure pc4 (extract if user passed full postalCode)\n",
    "    if \"pc4\" not in row or row[\"pc4\"].isna().any():\n",
    "        if \"postalCode\" in row:\n",
    "            row[\"pc4\"] = row[\"postalCode\"].astype(str).str.extract(r\"(\\d{4})\")\n",
    "        else:\n",
    "            row[\"pc4\"] = np.nan\n",
    "    else:\n",
    "        row[\"pc4\"] = row[\"pc4\"].astype(str).str.extract(r\"(\\d{4})\")\n",
    "\n",
    "    # 4) attach priors (with sensible fallbacks)\n",
    "    row[\"city_prior\"] = row[\"city\"].map(city_prior_map).fillna(gmean)\n",
    "    row[\"pc4_prior\"]  = row[\"pc4\"].map(pc4_prior_map).fillna(row[\"city_prior\"]).fillna(gmean)\n",
    "\n",
    "    # 5) select features; cast cats to object for sklearn\n",
    "    X_new = row[num_cols + cat_cols].copy()\n",
    "    X_new[cat_cols] = X_new[cat_cols].astype(\"object\")\n",
    "\n",
    "    # 6) predict (model already trained on rent_adj with your uplift applied)\n",
    "    pred = float(pipe.predict(X_new)[0])\n",
    "    return pred\n"
   ]
  },
  {
   "cell_type": "code",
   "execution_count": 47,
   "id": "33917879",
   "metadata": {},
   "outputs": [
    {
     "name": "stdout",
     "output_type": "stream",
     "text": [
      "€ 1616\n"
     ]
    }
   ],
   "source": [
    "sample = {\n",
    "    \"areaSqm\": 45,\n",
    "    \"latitude\": 52.0907, \"longitude\": 5.1214,   # Utrecht center-ish\n",
    "    \"city\": \"utrecht\", \"pc4\": \"3511\",\n",
    "    \"propertyType\": \"apartment\", \"furnish\": \"furnished\",\n",
    "    \"internet\": \"yes\", \"kitchen\": \"own\", \"shower\": \"own\",\n",
    "    \"toilet\": \"own\", \"living\": \"own\", \"smokingInside\": \"no\", \"pets\": \"no\"\n",
    "}\n",
    "print(\"€\", round(predict_rent(sample)))"
   ]
  },
  {
   "cell_type": "code",
   "execution_count": 45,
   "id": "8040a3d9",
   "metadata": {},
   "outputs": [
    {
     "name": "stdout",
     "output_type": "stream",
     "text": [
      "€ 1756\n"
     ]
    }
   ],
   "source": [
    "sample = {\n",
    "    \"areaSqm\": 70,\n",
    "    \"latitude\": 52.3431, \"longitude\": 5.1455,   # almere port\n",
    "    \"city\": \"almere\", \"pc4\": \"1362\",\n",
    "    \"propertyType\": \"apartment\", \"furnish\": \"furnished\",\n",
    "    \"internet\": \"yes\", \"kitchen\": \"own\", \"shower\": \"own\",\n",
    "    \"toilet\": \"own\", \"living\": \"own\", \"smokingInside\": \"no\", \"pets\": \"no\"\n",
    "}\n",
    "print(\"€\", round(predict_rent(sample)))"
   ]
  },
  {
   "cell_type": "code",
   "execution_count": null,
   "id": "476a36ef",
   "metadata": {},
   "outputs": [],
   "source": []
  },
  {
   "cell_type": "code",
   "execution_count": null,
   "id": "a1649c60",
   "metadata": {},
   "outputs": [],
   "source": []
  }
 ],
 "metadata": {
  "kernelspec": {
   "display_name": "Python 3 (ipykernel)",
   "language": "python",
   "name": "python3"
  },
  "language_info": {
   "codemirror_mode": {
    "name": "ipython",
    "version": 3
   },
   "file_extension": ".py",
   "mimetype": "text/x-python",
   "name": "python",
   "nbconvert_exporter": "python",
   "pygments_lexer": "ipython3",
   "version": "3.10.6"
  },
  "toc": {
   "base_numbering": 1,
   "nav_menu": {},
   "number_sections": true,
   "sideBar": true,
   "skip_h1_title": false,
   "title_cell": "Table of Contents",
   "title_sidebar": "Contents",
   "toc_cell": false,
   "toc_position": {},
   "toc_section_display": true,
   "toc_window_display": false
  }
 },
 "nbformat": 4,
 "nbformat_minor": 5
}
